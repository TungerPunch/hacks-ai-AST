{
 "cells": [
  {
   "cell_type": "code",
   "execution_count": 48,
   "metadata": {},
   "outputs": [],
   "source": [
    "import numpy as np\n",
    "import pandas as pd\n",
    "import matplotlib.pyplot as plt"
   ]
  },
  {
   "cell_type": "code",
   "execution_count": 2,
   "metadata": {},
   "outputs": [],
   "source": [
    "df_train = pd.read_parquet('train_dataset_hackaton2023_train.gzip')\n",
    "df_test = pd.read_parquet('hackaton2023_test.gzip')"
   ]
  },
  {
   "cell_type": "code",
   "execution_count": 70,
   "metadata": {},
   "outputs": [
    {
     "data": {
      "text/html": [
       "<div>\n",
       "<style scoped>\n",
       "    .dataframe tbody tr th:only-of-type {\n",
       "        vertical-align: middle;\n",
       "    }\n",
       "\n",
       "    .dataframe tbody tr th {\n",
       "        vertical-align: top;\n",
       "    }\n",
       "\n",
       "    .dataframe thead th {\n",
       "        text-align: right;\n",
       "    }\n",
       "</style>\n",
       "<table border=\"1\" class=\"dataframe\">\n",
       "  <thead>\n",
       "    <tr style=\"text-align: right;\">\n",
       "      <th></th>\n",
       "      <th>customer_id</th>\n",
       "      <th>group_name</th>\n",
       "      <th>revenue</th>\n",
       "      <th>startdatetime</th>\n",
       "      <th>dish_name</th>\n",
       "      <th>ownareaall_sqm</th>\n",
       "      <th>format_name</th>\n",
       "    </tr>\n",
       "  </thead>\n",
       "  <tbody>\n",
       "    <tr>\n",
       "      <th>1773606</th>\n",
       "      <td>13220760</td>\n",
       "      <td>test</td>\n",
       "      <td>0.28</td>\n",
       "      <td>2022-12-22 13:09:11</td>\n",
       "      <td>Липтон Лимон в бутылке 0,5л</td>\n",
       "      <td>174.40</td>\n",
       "      <td>Фудкорт с туалетом</td>\n",
       "    </tr>\n",
       "    <tr>\n",
       "      <th>4035564</th>\n",
       "      <td>30315975</td>\n",
       "      <td>test</td>\n",
       "      <td>139.99</td>\n",
       "      <td>2023-03-05 16:45:05</td>\n",
       "      <td>Пиво Балтика 7 0.5л розлив</td>\n",
       "      <td>235.00</td>\n",
       "      <td>Отдельно стоящий</td>\n",
       "    </tr>\n",
       "    <tr>\n",
       "      <th>2507770</th>\n",
       "      <td>21679985</td>\n",
       "      <td>test</td>\n",
       "      <td>36.00</td>\n",
       "      <td>2022-12-13 16:10:55</td>\n",
       "      <td>Кинг Фри мал</td>\n",
       "      <td>165.00</td>\n",
       "      <td>Фудкорт без туалета</td>\n",
       "    </tr>\n",
       "    <tr>\n",
       "      <th>3963775</th>\n",
       "      <td>29754274</td>\n",
       "      <td>test</td>\n",
       "      <td>230.00</td>\n",
       "      <td>2023-03-14 14:10:43</td>\n",
       "      <td>Цезарь ролл со стрипсами</td>\n",
       "      <td>150.00</td>\n",
       "      <td>Фудкорт без туалета</td>\n",
       "    </tr>\n",
       "    <tr>\n",
       "      <th>859943</th>\n",
       "      <td>7797823</td>\n",
       "      <td>test</td>\n",
       "      <td>204.96</td>\n",
       "      <td>2022-10-22 14:09:28</td>\n",
       "      <td>Up Гранд Чиз Фреш</td>\n",
       "      <td>114.50</td>\n",
       "      <td>Фудкорт без туалета</td>\n",
       "    </tr>\n",
       "    <tr>\n",
       "      <th>...</th>\n",
       "      <td>...</td>\n",
       "      <td>...</td>\n",
       "      <td>...</td>\n",
       "      <td>...</td>\n",
       "      <td>...</td>\n",
       "      <td>...</td>\n",
       "      <td>...</td>\n",
       "    </tr>\n",
       "    <tr>\n",
       "      <th>1677742</th>\n",
       "      <td>12727388</td>\n",
       "      <td>test</td>\n",
       "      <td>99.99</td>\n",
       "      <td>2023-04-29 10:12:21</td>\n",
       "      <td>Сырные Медальоны (6 шт.)</td>\n",
       "      <td>92.00</td>\n",
       "      <td>Фудкорт без туалета</td>\n",
       "    </tr>\n",
       "    <tr>\n",
       "      <th>4450230</th>\n",
       "      <td>36332632</td>\n",
       "      <td>test</td>\n",
       "      <td>79.98</td>\n",
       "      <td>2023-02-12 19:57:23</td>\n",
       "      <td>Липтон Грин Дж 0,3</td>\n",
       "      <td>216.93</td>\n",
       "      <td>Отдельно стоящий без внешней зоны</td>\n",
       "    </tr>\n",
       "    <tr>\n",
       "      <th>3882998</th>\n",
       "      <td>29278039</td>\n",
       "      <td>test</td>\n",
       "      <td>209.99</td>\n",
       "      <td>2022-11-08 15:39:53</td>\n",
       "      <td>Воппер Ролл</td>\n",
       "      <td>300.00</td>\n",
       "      <td>Отдельно стоящий с внешней зоной</td>\n",
       "    </tr>\n",
       "    <tr>\n",
       "      <th>1356999</th>\n",
       "      <td>11223378</td>\n",
       "      <td>test</td>\n",
       "      <td>679.98</td>\n",
       "      <td>2023-01-31 19:15:39</td>\n",
       "      <td>Двойной Воппер с сыром</td>\n",
       "      <td>136.50</td>\n",
       "      <td>Фудкорт без туалета</td>\n",
       "    </tr>\n",
       "    <tr>\n",
       "      <th>3964741</th>\n",
       "      <td>29757889</td>\n",
       "      <td>test</td>\n",
       "      <td>192.99</td>\n",
       "      <td>2023-02-05 17:31:26</td>\n",
       "      <td>Гранд Чиз</td>\n",
       "      <td>400.70</td>\n",
       "      <td>Отдельно стоящий</td>\n",
       "    </tr>\n",
       "  </tbody>\n",
       "</table>\n",
       "<p>2498034 rows × 7 columns</p>\n",
       "</div>"
      ],
      "text/plain": [
       "         customer_id group_name  revenue       startdatetime  \\\n",
       "1773606     13220760       test     0.28 2022-12-22 13:09:11   \n",
       "4035564     30315975       test   139.99 2023-03-05 16:45:05   \n",
       "2507770     21679985       test    36.00 2022-12-13 16:10:55   \n",
       "3963775     29754274       test   230.00 2023-03-14 14:10:43   \n",
       "859943       7797823       test   204.96 2022-10-22 14:09:28   \n",
       "...              ...        ...      ...                 ...   \n",
       "1677742     12727388       test    99.99 2023-04-29 10:12:21   \n",
       "4450230     36332632       test    79.98 2023-02-12 19:57:23   \n",
       "3882998     29278039       test   209.99 2022-11-08 15:39:53   \n",
       "1356999     11223378       test   679.98 2023-01-31 19:15:39   \n",
       "3964741     29757889       test   192.99 2023-02-05 17:31:26   \n",
       "\n",
       "                           dish_name  ownareaall_sqm  \\\n",
       "1773606  Липтон Лимон в бутылке 0,5л          174.40   \n",
       "4035564   Пиво Балтика 7 0.5л розлив          235.00   \n",
       "2507770                 Кинг Фри мал          165.00   \n",
       "3963775     Цезарь ролл со стрипсами          150.00   \n",
       "859943             Up Гранд Чиз Фреш          114.50   \n",
       "...                              ...             ...   \n",
       "1677742     Сырные Медальоны (6 шт.)           92.00   \n",
       "4450230           Липтон Грин Дж 0,3          216.93   \n",
       "3882998                  Воппер Ролл          300.00   \n",
       "1356999       Двойной Воппер с сыром          136.50   \n",
       "3964741                    Гранд Чиз          400.70   \n",
       "\n",
       "                               format_name  \n",
       "1773606                 Фудкорт с туалетом  \n",
       "4035564                   Отдельно стоящий  \n",
       "2507770                Фудкорт без туалета  \n",
       "3963775                Фудкорт без туалета  \n",
       "859943                 Фудкорт без туалета  \n",
       "...                                    ...  \n",
       "1677742                Фудкорт без туалета  \n",
       "4450230  Отдельно стоящий без внешней зоны  \n",
       "3882998   Отдельно стоящий с внешней зоной  \n",
       "1356999                Фудкорт без туалета  \n",
       "3964741                   Отдельно стоящий  \n",
       "\n",
       "[2498034 rows x 7 columns]"
      ]
     },
     "execution_count": 70,
     "metadata": {},
     "output_type": "execute_result"
    }
   ],
   "source": [
    "df_test"
   ]
  },
  {
   "cell_type": "code",
   "execution_count": 32,
   "metadata": {},
   "outputs": [
    {
     "data": {
      "text/html": [
       "<div>\n",
       "<style scoped>\n",
       "    .dataframe tbody tr th:only-of-type {\n",
       "        vertical-align: middle;\n",
       "    }\n",
       "\n",
       "    .dataframe tbody tr th {\n",
       "        vertical-align: top;\n",
       "    }\n",
       "\n",
       "    .dataframe thead th {\n",
       "        text-align: right;\n",
       "    }\n",
       "</style>\n",
       "<table border=\"1\" class=\"dataframe\">\n",
       "  <thead>\n",
       "    <tr style=\"text-align: right;\">\n",
       "      <th></th>\n",
       "      <th>customer_id</th>\n",
       "      <th>date_diff_post</th>\n",
       "      <th>buy_post</th>\n",
       "      <th>group_name</th>\n",
       "      <th>revenue</th>\n",
       "      <th>startdatetime</th>\n",
       "      <th>dish_name</th>\n",
       "      <th>ownareaall_sqm</th>\n",
       "      <th>format_name</th>\n",
       "    </tr>\n",
       "  </thead>\n",
       "  <tbody>\n",
       "    <tr>\n",
       "      <th>0</th>\n",
       "      <td>29891</td>\n",
       "      <td>9.0</td>\n",
       "      <td>1</td>\n",
       "      <td>train</td>\n",
       "      <td>69.99</td>\n",
       "      <td>2022-12-05 12:03:58</td>\n",
       "      <td>Кинг Фри станд</td>\n",
       "      <td>300.0</td>\n",
       "      <td>Отдельно стоящий без внешней зоны</td>\n",
       "    </tr>\n",
       "    <tr>\n",
       "      <th>1</th>\n",
       "      <td>29891</td>\n",
       "      <td>9.0</td>\n",
       "      <td>1</td>\n",
       "      <td>train</td>\n",
       "      <td>190.00</td>\n",
       "      <td>2022-12-05 12:03:58</td>\n",
       "      <td>Чикен Тар-Тар</td>\n",
       "      <td>300.0</td>\n",
       "      <td>Отдельно стоящий без внешней зоны</td>\n",
       "    </tr>\n",
       "    <tr>\n",
       "      <th>2</th>\n",
       "      <td>29891</td>\n",
       "      <td>9.0</td>\n",
       "      <td>1</td>\n",
       "      <td>train</td>\n",
       "      <td>9.99</td>\n",
       "      <td>2022-12-05 12:03:58</td>\n",
       "      <td>Соус Сырный</td>\n",
       "      <td>300.0</td>\n",
       "      <td>Отдельно стоящий без внешней зоны</td>\n",
       "    </tr>\n",
       "    <tr>\n",
       "      <th>3</th>\n",
       "      <td>29891</td>\n",
       "      <td>9.0</td>\n",
       "      <td>1</td>\n",
       "      <td>train</td>\n",
       "      <td>119.99</td>\n",
       "      <td>2022-12-05 12:03:58</td>\n",
       "      <td>Энергет.нап. Адреналин Раш</td>\n",
       "      <td>300.0</td>\n",
       "      <td>Отдельно стоящий без внешней зоны</td>\n",
       "    </tr>\n",
       "    <tr>\n",
       "      <th>4</th>\n",
       "      <td>29891</td>\n",
       "      <td>9.0</td>\n",
       "      <td>1</td>\n",
       "      <td>train</td>\n",
       "      <td>119.99</td>\n",
       "      <td>2022-12-05 14:28:35</td>\n",
       "      <td>Латте (СТАНД.)</td>\n",
       "      <td>300.0</td>\n",
       "      <td>Отдельно стоящий без внешней зоны</td>\n",
       "    </tr>\n",
       "  </tbody>\n",
       "</table>\n",
       "</div>"
      ],
      "text/plain": [
       "   customer_id  date_diff_post  buy_post group_name  revenue  \\\n",
       "0        29891             9.0         1      train    69.99   \n",
       "1        29891             9.0         1      train   190.00   \n",
       "2        29891             9.0         1      train     9.99   \n",
       "3        29891             9.0         1      train   119.99   \n",
       "4        29891             9.0         1      train   119.99   \n",
       "\n",
       "        startdatetime                   dish_name  ownareaall_sqm  \\\n",
       "0 2022-12-05 12:03:58              Кинг Фри станд           300.0   \n",
       "1 2022-12-05 12:03:58               Чикен Тар-Тар           300.0   \n",
       "2 2022-12-05 12:03:58                 Соус Сырный           300.0   \n",
       "3 2022-12-05 12:03:58  Энергет.нап. Адреналин Раш           300.0   \n",
       "4 2022-12-05 14:28:35              Латте (СТАНД.)           300.0   \n",
       "\n",
       "                         format_name  \n",
       "0  Отдельно стоящий без внешней зоны  \n",
       "1  Отдельно стоящий без внешней зоны  \n",
       "2  Отдельно стоящий без внешней зоны  \n",
       "3  Отдельно стоящий без внешней зоны  \n",
       "4  Отдельно стоящий без внешней зоны  "
      ]
     },
     "execution_count": 32,
     "metadata": {},
     "output_type": "execute_result"
    }
   ],
   "source": [
    "df_train.head()"
   ]
  },
  {
   "cell_type": "code",
   "execution_count": 33,
   "metadata": {},
   "outputs": [
    {
     "data": {
      "text/plain": [
       "0"
      ]
     },
     "execution_count": 33,
     "metadata": {},
     "output_type": "execute_result"
    }
   ],
   "source": [
    "# customers in train and test are different\n",
    "len(df_train.merge(df_test, on='customer_id'))"
   ]
  },
  {
   "cell_type": "code",
   "execution_count": 34,
   "metadata": {},
   "outputs": [
    {
     "data": {
      "text/plain": [
       "(Timestamp('2022-09-02 00:00:39'), Timestamp('2023-08-01 23:57:46'))"
      ]
     },
     "execution_count": 34,
     "metadata": {},
     "output_type": "execute_result"
    }
   ],
   "source": [
    "# train time range\n",
    "df_train['startdatetime'].min(), df_train['startdatetime'].max()"
   ]
  },
  {
   "cell_type": "code",
   "execution_count": 35,
   "metadata": {},
   "outputs": [
    {
     "data": {
      "text/plain": [
       "(Timestamp('2022-09-02 00:04:00'), Timestamp('2023-08-01 23:31:03'))"
      ]
     },
     "execution_count": 35,
     "metadata": {},
     "output_type": "execute_result"
    }
   ],
   "source": [
    "# test time range\n",
    "df_test['startdatetime'].min(), df_test['startdatetime'].max()"
   ]
  },
  {
   "cell_type": "code",
   "execution_count": 36,
   "metadata": {},
   "outputs": [
    {
     "data": {
      "text/plain": [
       "customer_id             0\n",
       "date_diff_post    2468517\n",
       "buy_post                0\n",
       "group_name              0\n",
       "revenue                 0\n",
       "startdatetime           0\n",
       "dish_name               0\n",
       "ownareaall_sqm          0\n",
       "format_name             0\n",
       "dtype: int64"
      ]
     },
     "execution_count": 36,
     "metadata": {},
     "output_type": "execute_result"
    }
   ],
   "source": [
    "# na train \n",
    "df_train.isna().sum()"
   ]
  },
  {
   "cell_type": "code",
   "execution_count": 37,
   "metadata": {},
   "outputs": [
    {
     "data": {
      "text/plain": [
       "customer_id       0\n",
       "group_name        0\n",
       "revenue           0\n",
       "startdatetime     0\n",
       "dish_name         0\n",
       "ownareaall_sqm    0\n",
       "format_name       0\n",
       "dtype: int64"
      ]
     },
     "execution_count": 37,
     "metadata": {},
     "output_type": "execute_result"
    }
   ],
   "source": [
    "# na test \n",
    "df_test.isna().sum()"
   ]
  },
  {
   "cell_type": "code",
   "execution_count": 38,
   "metadata": {},
   "outputs": [
    {
     "data": {
      "text/plain": [
       "500000"
      ]
     },
     "execution_count": 38,
     "metadata": {},
     "output_type": "execute_result"
    }
   ],
   "source": [
    "# number of unique customers\n",
    "df_train['customer_id'].nunique()"
   ]
  },
  {
   "cell_type": "code",
   "execution_count": 39,
   "metadata": {},
   "outputs": [
    {
     "data": {
      "text/plain": [
       "train    12129384\n",
       "Name: group_name, dtype: int64"
      ]
     },
     "execution_count": 39,
     "metadata": {},
     "output_type": "execute_result"
    }
   ],
   "source": [
    "df_train['group_name'].value_counts()"
   ]
  },
  {
   "cell_type": "code",
   "execution_count": 40,
   "metadata": {},
   "outputs": [
    {
     "data": {
      "image/png": "[encoded data removed]",
      "text/plain": [
       "<Figure size 640x480 with 1 Axes>"
      ]
     },
     "metadata": {},
     "output_type": "display_data"
    }
   ],
   "source": [
    "# target balance\n",
    "retention_count = df_train.groupby('customer_id').agg('first')['buy_post'].value_counts()\n",
    "\n",
    "fig, ax = plt.subplots()\n",
    "ax.pie(retention_count, labels=retention_count.index, autopct='%1.1f%%');"
   ]
  },
  {
   "cell_type": "code",
   "execution_count": 45,
   "metadata": {},
   "outputs": [
    {
     "data": {
      "text/plain": [
       "<Axes: >"
      ]
     },
     "execution_count": 45,
     "metadata": {},
     "output_type": "execute_result"
    },
    {
     "data": {
      "image/png": "[encoded data removed]",
      "text/plain": [
       "<Figure size 640x480 with 1 Axes>"
      ]
     },
     "metadata": {},
     "output_type": "display_data"
    }
   ],
   "source": [
    "df_train['date_diff_post'].hist(bins=20)"
   ]
  },
  {
   "cell_type": "code",
   "execution_count": 74,
   "metadata": {},
   "outputs": [
    {
     "data": {
      "text/plain": [
       "<Axes: >"
      ]
     },
     "execution_count": 74,
     "metadata": {},
     "output_type": "execute_result"
    },
    {
     "data": {
      "image/png": "[encoded data removed]",
      "text/plain": [
       "<Figure size 640x480 with 1 Axes>"
      ]
     },
     "metadata": {},
     "output_type": "display_data"
    }
   ],
   "source": [
    "np.log1p(df_train['revenue']).hist(bins=30)"
   ]
  },
  {
   "cell_type": "code",
   "execution_count": 52,
   "metadata": {},
   "outputs": [
    {
     "data": {
      "text/plain": [
       "Кинг Фри мал                                  680496\n",
       "Наггетсы (3 шт.)                              639692\n",
       "Кинг Фри станд                                461873\n",
       "Соус Сырный                                   434150\n",
       "Кинг Фри бол                                  367213\n",
       "                                               ...  \n",
       "Пепси Макс XL 1л                                   1\n",
       "Up МИКС МАСТЕР «Перчик Чили» Деревенский L         1\n",
       "Воппер Джуниор Сыр-Бекон new                       1\n",
       "Up Острые Стрипсы 6 Шт                             1\n",
       "Т3.1RUB.АНГУС Шеф new                              1\n",
       "Name: dish_name, Length: 1038, dtype: int64"
      ]
     },
     "execution_count": 52,
     "metadata": {},
     "output_type": "execute_result"
    }
   ],
   "source": [
    "df_train['dish_name'].value_counts()"
   ]
  },
  {
   "cell_type": "code",
   "execution_count": 77,
   "metadata": {},
   "outputs": [],
   "source": [
    "df_train['dish_name'].value_counts().to_csv('dish_name.csv')"
   ]
  },
  {
   "cell_type": "code",
   "execution_count": 78,
   "metadata": {},
   "outputs": [
    {
     "data": {
      "text/plain": [
       "<Axes: >"
      ]
     },
     "execution_count": 78,
     "metadata": {},
     "output_type": "execute_result"
    },
    {
     "data": {
      "image/png": "[encoded data removed]",
      "text/plain": [
       "<Figure size 640x480 with 1 Axes>"
      ]
     },
     "metadata": {},
     "output_type": "display_data"
    }
   ],
   "source": [
    "df_train['ownareaall_sqm'].hist(bins=50)"
   ]
  },
  {
   "cell_type": "code",
   "execution_count": 65,
   "metadata": {},
   "outputs": [
    {
     "data": {
      "text/plain": [
       "Фудкорт без туалета                              4648951\n",
       "Отдельно стоящий с внешней зоной                 2310987\n",
       "Отдельно стоящий без внешней зоны                1814429\n",
       "Отдельно стоящий                                 1663806\n",
       "Фудкорт с туалетом                               1166460\n",
       "Отдельно стоящий без внешней зоны без туалета     268701\n",
       "Отдельно стоящий без туалета                      164444\n",
       "Отдельно стоящий с внешн.зоной без туалета         91576\n",
       "Не заполнено                                          30\n",
       "Name: format_name, dtype: int64"
      ]
     },
     "execution_count": 65,
     "metadata": {},
     "output_type": "execute_result"
    }
   ],
   "source": [
    "df_train['format_name'].value_counts()"
   ]
  },
  {
   "cell_type": "code",
   "execution_count": null,
   "metadata": {},
   "outputs": [],
   "source": []
  }
 ],
 "metadata": {
  "kernelspec": {
   "display_name": "Python 3",
   "language": "python",
   "name": "python3"
  },
  "language_info": {
   "codemirror_mode": {
    "name": "ipython",
    "version": 3
   },
   "file_extension": ".py",
   "mimetype": "text/x-python",
   "name": "python",
   "nbconvert_exporter": "python",
   "pygments_lexer": "ipython3",
   "version": "3.9.13"
  },
  "orig_nbformat": 4,
  "vscode": {
   "interpreter": {
    "hash": "cf92aa13fedf815d5c8dd192b8d835913fde3e8bc926b2a0ad6cc74ef2ba3ca2"
   }
  }
 },
 "nbformat": 4,
 "nbformat_minor": 2
}
