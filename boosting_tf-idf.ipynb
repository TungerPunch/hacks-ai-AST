{
 "cells": [
  {
   "cell_type": "code",
   "execution_count": 1,
   "metadata": {},
   "outputs": [],
   "source": [
    "import os\n",
    "\n",
    "os.chdir('app/')"
   ]
  },
  {
   "cell_type": "code",
   "execution_count": 2,
   "metadata": {},
   "outputs": [],
   "source": [
    "import numpy as np\n",
    "import pandas as pd\n",
    "import matplotlib.pyplot as plt\n",
    "\n",
    "from sklearn.metrics import roc_auc_score, f1_score, mean_squared_error\n",
    "from sklearn.model_selection import cross_val_score, train_test_split\n",
    "from sklearn.preprocessing import OneHotEncoder\n",
    "\n",
    "from sklearn.feature_extraction.text import TfidfVectorizer\n",
    "from sklearn.decomposition import TruncatedSVD\n",
    "\n",
    "\n",
    "from sklearn.linear_model import LogisticRegression, LinearRegression\n",
    "from lightgbm import LGBMClassifier, LGBMRegressor"
   ]
  },
  {
   "cell_type": "code",
   "execution_count": 3,
   "metadata": {},
   "outputs": [],
   "source": [
    "path_to_data = 'data'"
   ]
  },
  {
   "cell_type": "code",
   "execution_count": 16,
   "metadata": {},
   "outputs": [],
   "source": [
    "df_train = pd.read_parquet(path_to_data + '/train_dataset_hackaton2023_train.gzip')\n",
    "df_test = pd.read_parquet(path_to_data + '/hackaton2023_test.gzip')\n",
    "\n",
    "df_test['date_diff_post'] = 0\n",
    "df_test['buy_post'] = 0"
   ]
  },
  {
   "cell_type": "code",
   "execution_count": 17,
   "metadata": {},
   "outputs": [],
   "source": [
    "mapping = pd.read_csv('mapping_2.csv')\n",
    "df_train['dish_category'] = df_train['dish_name'].map(mapping.set_index('dish_name')['dish_category'])"
   ]
  },
  {
   "cell_type": "code",
   "execution_count": 19,
   "metadata": {},
   "outputs": [],
   "source": [
    "# ohe = OneHotEncoder()\n",
    "# dish_category_ohe = ohe.fit_transform(df_train[['dish_category']])\n",
    "# dish_category_ohe = pd.DataFrame(dish_category_ohe.A, columns=ohe.get_feature_names_out())\n",
    "\n",
    "# df_train_ohe = pd.concat([df_train, dish_category_ohe], axis=1)"
   ]
  },
  {
   "cell_type": "code",
   "execution_count": 20,
   "metadata": {},
   "outputs": [],
   "source": [
    "data_check_agg = df_train.groupby(['customer_id', 'startdatetime']).agg({\n",
    "        'revenue': 'sum', \n",
    "        'revenue': 'count', \n",
    "        'buy_post': 'first',\n",
    "        'date_diff_post': 'first',\n",
    "        'dish_category': lambda x: list(x)\n",
    "}).reset_index()"
   ]
  },
  {
   "cell_type": "code",
   "execution_count": 22,
   "metadata": {},
   "outputs": [],
   "source": [
    "corpus = ['|'.join(check) for check in list(data_check_agg['dish_category'])]"
   ]
  },
  {
   "cell_type": "code",
   "execution_count": 23,
   "metadata": {},
   "outputs": [
    {
     "name": "stderr",
     "output_type": "stream",
     "text": [
      "/home/macro-micro-coles/miniconda/envs/env/lib/python3.9/site-packages/sklearn/feature_extraction/text.py:525: UserWarning: The parameter 'token_pattern' will not be used since 'tokenizer' is not None'\n",
      "  warnings.warn(\n"
     ]
    }
   ],
   "source": [
    "tfidf = TfidfVectorizer(tokenizer= lambda x: x.split('|'))\n",
    "res = tfidf.fit_transform(corpus)"
   ]
  },
  {
   "cell_type": "code",
   "execution_count": 24,
   "metadata": {},
   "outputs": [],
   "source": [
    "tfidf_features = pd.DataFrame(res.A, columns=tfidf.get_feature_names_out())"
   ]
  },
  {
   "cell_type": "code",
   "execution_count": 25,
   "metadata": {},
   "outputs": [],
   "source": [
    "data_check_agg_tf_idf = pd.concat([data_check_agg, tfidf_features], axis=1)# "
   ]
  },
  {
   "cell_type": "code",
   "execution_count": 26,
   "metadata": {},
   "outputs": [
    {
     "data": {
      "text/html": [
       "<div>\n",
       "<style scoped>\n",
       "    .dataframe tbody tr th:only-of-type {\n",
       "        vertical-align: middle;\n",
       "    }\n",
       "\n",
       "    .dataframe tbody tr th {\n",
       "        vertical-align: top;\n",
       "    }\n",
       "\n",
       "    .dataframe thead th {\n",
       "        text-align: right;\n",
       "    }\n",
       "</style>\n",
       "<table border=\"1\" class=\"dataframe\">\n",
       "  <thead>\n",
       "    <tr style=\"text-align: right;\">\n",
       "      <th></th>\n",
       "      <th>customer_id</th>\n",
       "      <th>startdatetime</th>\n",
       "      <th>revenue</th>\n",
       "      <th>buy_post</th>\n",
       "      <th>date_diff_post</th>\n",
       "      <th>dish_category</th>\n",
       "      <th>бургер</th>\n",
       "      <th>десерт</th>\n",
       "      <th>дополнительно</th>\n",
       "      <th>закуски</th>\n",
       "      <th>напитки</th>\n",
       "      <th>прочее</th>\n",
       "      <th>ролл</th>\n",
       "      <th>соус</th>\n",
       "    </tr>\n",
       "  </thead>\n",
       "  <tbody>\n",
       "    <tr>\n",
       "      <th>0</th>\n",
       "      <td>29891</td>\n",
       "      <td>2022-12-05 12:03:58</td>\n",
       "      <td>4</td>\n",
       "      <td>1</td>\n",
       "      <td>9.0</td>\n",
       "      <td>[Закуски, Бургер, Соус, Напитки]</td>\n",
       "      <td>0.431347</td>\n",
       "      <td>0.000000</td>\n",
       "      <td>0.0</td>\n",
       "      <td>0.437767</td>\n",
       "      <td>0.463336</td>\n",
       "      <td>0.0</td>\n",
       "      <td>0.000000</td>\n",
       "      <td>0.63845</td>\n",
       "    </tr>\n",
       "    <tr>\n",
       "      <th>1</th>\n",
       "      <td>29891</td>\n",
       "      <td>2022-12-05 14:28:35</td>\n",
       "      <td>1</td>\n",
       "      <td>1</td>\n",
       "      <td>9.0</td>\n",
       "      <td>[Напитки]</td>\n",
       "      <td>0.000000</td>\n",
       "      <td>0.000000</td>\n",
       "      <td>0.0</td>\n",
       "      <td>0.000000</td>\n",
       "      <td>1.000000</td>\n",
       "      <td>0.0</td>\n",
       "      <td>0.000000</td>\n",
       "      <td>0.00000</td>\n",
       "    </tr>\n",
       "    <tr>\n",
       "      <th>2</th>\n",
       "      <td>29891</td>\n",
       "      <td>2022-12-15 00:37:19</td>\n",
       "      <td>2</td>\n",
       "      <td>1</td>\n",
       "      <td>9.0</td>\n",
       "      <td>[Бургер, Ролл]</td>\n",
       "      <td>0.402310</td>\n",
       "      <td>0.000000</td>\n",
       "      <td>0.0</td>\n",
       "      <td>0.000000</td>\n",
       "      <td>0.000000</td>\n",
       "      <td>0.0</td>\n",
       "      <td>0.915503</td>\n",
       "      <td>0.00000</td>\n",
       "    </tr>\n",
       "    <tr>\n",
       "      <th>3</th>\n",
       "      <td>29891</td>\n",
       "      <td>2022-12-20 09:20:38</td>\n",
       "      <td>1</td>\n",
       "      <td>1</td>\n",
       "      <td>9.0</td>\n",
       "      <td>[Бургер]</td>\n",
       "      <td>1.000000</td>\n",
       "      <td>0.000000</td>\n",
       "      <td>0.0</td>\n",
       "      <td>0.000000</td>\n",
       "      <td>0.000000</td>\n",
       "      <td>0.0</td>\n",
       "      <td>0.000000</td>\n",
       "      <td>0.00000</td>\n",
       "    </tr>\n",
       "    <tr>\n",
       "      <th>4</th>\n",
       "      <td>29891</td>\n",
       "      <td>2022-12-21 09:46:23</td>\n",
       "      <td>1</td>\n",
       "      <td>1</td>\n",
       "      <td>9.0</td>\n",
       "      <td>[Бургер]</td>\n",
       "      <td>1.000000</td>\n",
       "      <td>0.000000</td>\n",
       "      <td>0.0</td>\n",
       "      <td>0.000000</td>\n",
       "      <td>0.000000</td>\n",
       "      <td>0.0</td>\n",
       "      <td>0.000000</td>\n",
       "      <td>0.00000</td>\n",
       "    </tr>\n",
       "    <tr>\n",
       "      <th>...</th>\n",
       "      <td>...</td>\n",
       "      <td>...</td>\n",
       "      <td>...</td>\n",
       "      <td>...</td>\n",
       "      <td>...</td>\n",
       "      <td>...</td>\n",
       "      <td>...</td>\n",
       "      <td>...</td>\n",
       "      <td>...</td>\n",
       "      <td>...</td>\n",
       "      <td>...</td>\n",
       "      <td>...</td>\n",
       "      <td>...</td>\n",
       "      <td>...</td>\n",
       "    </tr>\n",
       "    <tr>\n",
       "      <th>2880581</th>\n",
       "      <td>46654016</td>\n",
       "      <td>2023-08-01 14:04:28</td>\n",
       "      <td>1</td>\n",
       "      <td>1</td>\n",
       "      <td>15.0</td>\n",
       "      <td>[Напитки]</td>\n",
       "      <td>0.000000</td>\n",
       "      <td>0.000000</td>\n",
       "      <td>0.0</td>\n",
       "      <td>0.000000</td>\n",
       "      <td>1.000000</td>\n",
       "      <td>0.0</td>\n",
       "      <td>0.000000</td>\n",
       "      <td>0.00000</td>\n",
       "    </tr>\n",
       "    <tr>\n",
       "      <th>2880582</th>\n",
       "      <td>46654016</td>\n",
       "      <td>2023-08-01 18:15:31</td>\n",
       "      <td>2</td>\n",
       "      <td>1</td>\n",
       "      <td>15.0</td>\n",
       "      <td>[Бургер, Напитки]</td>\n",
       "      <td>0.681389</td>\n",
       "      <td>0.000000</td>\n",
       "      <td>0.0</td>\n",
       "      <td>0.000000</td>\n",
       "      <td>0.731921</td>\n",
       "      <td>0.0</td>\n",
       "      <td>0.000000</td>\n",
       "      <td>0.00000</td>\n",
       "    </tr>\n",
       "    <tr>\n",
       "      <th>2880583</th>\n",
       "      <td>46661804</td>\n",
       "      <td>2023-08-01 17:50:26</td>\n",
       "      <td>3</td>\n",
       "      <td>0</td>\n",
       "      <td>NaN</td>\n",
       "      <td>[Бургер, Закуски, Напитки]</td>\n",
       "      <td>0.560436</td>\n",
       "      <td>0.000000</td>\n",
       "      <td>0.0</td>\n",
       "      <td>0.568778</td>\n",
       "      <td>0.601999</td>\n",
       "      <td>0.0</td>\n",
       "      <td>0.000000</td>\n",
       "      <td>0.00000</td>\n",
       "    </tr>\n",
       "    <tr>\n",
       "      <th>2880584</th>\n",
       "      <td>46661804</td>\n",
       "      <td>2023-08-01 18:01:40</td>\n",
       "      <td>6</td>\n",
       "      <td>0</td>\n",
       "      <td>NaN</td>\n",
       "      <td>[Закуски, Бургер, Десерт, Закуски, Напитки, За...</td>\n",
       "      <td>0.261285</td>\n",
       "      <td>0.469153</td>\n",
       "      <td>0.0</td>\n",
       "      <td>0.795522</td>\n",
       "      <td>0.280662</td>\n",
       "      <td>0.0</td>\n",
       "      <td>0.000000</td>\n",
       "      <td>0.00000</td>\n",
       "    </tr>\n",
       "    <tr>\n",
       "      <th>2880585</th>\n",
       "      <td>46661804</td>\n",
       "      <td>2023-08-01 18:04:56</td>\n",
       "      <td>6</td>\n",
       "      <td>0</td>\n",
       "      <td>NaN</td>\n",
       "      <td>[Десерт, Напитки, Бургер, Закуски, Закуски, За...</td>\n",
       "      <td>0.261285</td>\n",
       "      <td>0.469153</td>\n",
       "      <td>0.0</td>\n",
       "      <td>0.795522</td>\n",
       "      <td>0.280662</td>\n",
       "      <td>0.0</td>\n",
       "      <td>0.000000</td>\n",
       "      <td>0.00000</td>\n",
       "    </tr>\n",
       "  </tbody>\n",
       "</table>\n",
       "<p>2880586 rows × 14 columns</p>\n",
       "</div>"
      ],
      "text/plain": [
       "         customer_id       startdatetime  revenue  buy_post  date_diff_post  \\\n",
       "0              29891 2022-12-05 12:03:58        4         1             9.0   \n",
       "1              29891 2022-12-05 14:28:35        1         1             9.0   \n",
       "2              29891 2022-12-15 00:37:19        2         1             9.0   \n",
       "3              29891 2022-12-20 09:20:38        1         1             9.0   \n",
       "4              29891 2022-12-21 09:46:23        1         1             9.0   \n",
       "...              ...                 ...      ...       ...             ...   \n",
       "2880581     46654016 2023-08-01 14:04:28        1         1            15.0   \n",
       "2880582     46654016 2023-08-01 18:15:31        2         1            15.0   \n",
       "2880583     46661804 2023-08-01 17:50:26        3         0             NaN   \n",
       "2880584     46661804 2023-08-01 18:01:40        6         0             NaN   \n",
       "2880585     46661804 2023-08-01 18:04:56        6         0             NaN   \n",
       "\n",
       "                                             dish_category    бургер  \\\n",
       "0                         [Закуски, Бургер, Соус, Напитки]  0.431347   \n",
       "1                                                [Напитки]  0.000000   \n",
       "2                                           [Бургер, Ролл]  0.402310   \n",
       "3                                                 [Бургер]  1.000000   \n",
       "4                                                 [Бургер]  1.000000   \n",
       "...                                                    ...       ...   \n",
       "2880581                                          [Напитки]  0.000000   \n",
       "2880582                                  [Бургер, Напитки]  0.681389   \n",
       "2880583                         [Бургер, Закуски, Напитки]  0.560436   \n",
       "2880584  [Закуски, Бургер, Десерт, Закуски, Напитки, За...  0.261285   \n",
       "2880585  [Десерт, Напитки, Бургер, Закуски, Закуски, За...  0.261285   \n",
       "\n",
       "           десерт  дополнительно   закуски   напитки  прочее      ролл  \\\n",
       "0        0.000000            0.0  0.437767  0.463336     0.0  0.000000   \n",
       "1        0.000000            0.0  0.000000  1.000000     0.0  0.000000   \n",
       "2        0.000000            0.0  0.000000  0.000000     0.0  0.915503   \n",
       "3        0.000000            0.0  0.000000  0.000000     0.0  0.000000   \n",
       "4        0.000000            0.0  0.000000  0.000000     0.0  0.000000   \n",
       "...           ...            ...       ...       ...     ...       ...   \n",
       "2880581  0.000000            0.0  0.000000  1.000000     0.0  0.000000   \n",
       "2880582  0.000000            0.0  0.000000  0.731921     0.0  0.000000   \n",
       "2880583  0.000000            0.0  0.568778  0.601999     0.0  0.000000   \n",
       "2880584  0.469153            0.0  0.795522  0.280662     0.0  0.000000   \n",
       "2880585  0.469153            0.0  0.795522  0.280662     0.0  0.000000   \n",
       "\n",
       "            соус  \n",
       "0        0.63845  \n",
       "1        0.00000  \n",
       "2        0.00000  \n",
       "3        0.00000  \n",
       "4        0.00000  \n",
       "...          ...  \n",
       "2880581  0.00000  \n",
       "2880582  0.00000  \n",
       "2880583  0.00000  \n",
       "2880584  0.00000  \n",
       "2880585  0.00000  \n",
       "\n",
       "[2880586 rows x 14 columns]"
      ]
     },
     "execution_count": 26,
     "metadata": {},
     "output_type": "execute_result"
    }
   ],
   "source": [
    "data_check_agg_tf_idf"
   ]
  },
  {
   "cell_type": "code",
   "execution_count": 27,
   "metadata": {},
   "outputs": [],
   "source": [
    "data_check_agg_tf_idf['delta'] = data_check_agg_tf_idf.groupby('customer_id')['startdatetime'].diff() \n",
    "\n",
    "data_check_agg_tf_idf['delta_hours'] = (data_check_agg_tf_idf['delta'].dt.total_seconds() // (60*60)).fillna(0)\n",
    "data_check_agg_tf_idf['delta_days'] = (data_check_agg_tf_idf['delta'].dt.total_seconds() // (24*60*60)).fillna(0)"
   ]
  },
  {
   "cell_type": "code",
   "execution_count": 28,
   "metadata": {},
   "outputs": [],
   "source": [
    "data_cust_agg = data_check_agg_tf_idf.groupby('customer_id').agg({\n",
    "    'revenue': ['mean', 'median', 'std', 'max', 'min', 'count'],\n",
    "    'delta_hours': ['mean', 'median', 'std', 'max'], \n",
    "    'delta_days': ['mean', 'median', 'std', 'max'], \n",
    "    'startdatetime': ['min', 'max'],\n",
    "    'buy_post': 'first',\n",
    "    'date_diff_post': 'first',\n",
    "} | {\n",
    "    col: ['mean', 'median', 'std', 'max', 'min'] for col in tfidf_features.columns\n",
    "}).reset_index()"
   ]
  },
  {
   "cell_type": "code",
   "execution_count": 29,
   "metadata": {},
   "outputs": [],
   "source": [
    "data_cust_agg.columns = [f'{header}_{stat}' for header, stat in data_cust_agg.columns]"
   ]
  },
  {
   "cell_type": "code",
   "execution_count": 30,
   "metadata": {},
   "outputs": [],
   "source": [
    "data_cust_agg['recency'] = (data_cust_agg['startdatetime_max'] - data_cust_agg['startdatetime_min']).dt.days\n",
    "data_cust_agg['T'] = (pd.to_datetime('2023-08-02') - data_cust_agg['startdatetime_min']).dt.days\n",
    "data_cust_agg['days_from_last_purchase'] = (pd.to_datetime('2023-08-02') - data_cust_agg['startdatetime_max']).dt.days\n",
    "data_cust_agg['lambda'] = data_cust_agg['revenue_count'] / (data_cust_agg['recency'] + 1)"
   ]
  },
  {
   "cell_type": "code",
   "execution_count": 31,
   "metadata": {},
   "outputs": [],
   "source": [
    "data_train, data_valid = train_test_split(data_cust_agg, test_size=.2, random_state=42)"
   ]
  },
  {
   "cell_type": "code",
   "execution_count": 32,
   "metadata": {},
   "outputs": [],
   "source": [
    "X_train = data_train.drop(['date_diff_post_first', 'buy_post_first', 'customer_id_', 'startdatetime_max', 'startdatetime_min'], axis=1)\n",
    "y_train_class = data_train['buy_post_first']\n",
    "y_train_reg = data_train['date_diff_post_first']\n",
    "\n",
    "X_valid = data_valid.drop(['date_diff_post_first', 'buy_post_first', 'customer_id_', 'startdatetime_max', 'startdatetime_min'], axis=1)\n",
    "y_valid_class = data_valid['buy_post_first']\n",
    "y_valid_reg = data_valid['date_diff_post_first']\n",
    "\n",
    "# X_test = data_test.drop(['date_diff_post_first', 'buy_post_first', 'customer_id_'], axis=1)"
   ]
  },
  {
   "cell_type": "code",
   "execution_count": 34,
   "metadata": {},
   "outputs": [
    {
     "data": {
      "text/html": [
       "<style>#sk-container-id-2 {color: black;}#sk-container-id-2 pre{padding: 0;}#sk-container-id-2 div.sk-toggleable {background-color: white;}#sk-container-id-2 label.sk-toggleable__label {cursor: pointer;display: block;width: 100%;margin-bottom: 0;padding: 0.3em;box-sizing: border-box;text-align: center;}#sk-container-id-2 label.sk-toggleable__label-arrow:before {content: \"▸\";float: left;margin-right: 0.25em;color: #696969;}#sk-container-id-2 label.sk-toggleable__label-arrow:hover:before {color: black;}#sk-container-id-2 div.sk-estimator:hover label.sk-toggleable__label-arrow:before {color: black;}#sk-container-id-2 div.sk-toggleable__content {max-height: 0;max-width: 0;overflow: hidden;text-align: left;background-color: #f0f8ff;}#sk-container-id-2 div.sk-toggleable__content pre {margin: 0.2em;color: black;border-radius: 0.25em;background-color: #f0f8ff;}#sk-container-id-2 input.sk-toggleable__control:checked~div.sk-toggleable__content {max-height: 200px;max-width: 100%;overflow: auto;}#sk-container-id-2 input.sk-toggleable__control:checked~label.sk-toggleable__label-arrow:before {content: \"▾\";}#sk-container-id-2 div.sk-estimator input.sk-toggleable__control:checked~label.sk-toggleable__label {background-color: #d4ebff;}#sk-container-id-2 div.sk-label input.sk-toggleable__control:checked~label.sk-toggleable__label {background-color: #d4ebff;}#sk-container-id-2 input.sk-hidden--visually {border: 0;clip: rect(1px 1px 1px 1px);clip: rect(1px, 1px, 1px, 1px);height: 1px;margin: -1px;overflow: hidden;padding: 0;position: absolute;width: 1px;}#sk-container-id-2 div.sk-estimator {font-family: monospace;background-color: #f0f8ff;border: 1px dotted black;border-radius: 0.25em;box-sizing: border-box;margin-bottom: 0.5em;}#sk-container-id-2 div.sk-estimator:hover {background-color: #d4ebff;}#sk-container-id-2 div.sk-parallel-item::after {content: \"\";width: 100%;border-bottom: 1px solid gray;flex-grow: 1;}#sk-container-id-2 div.sk-label:hover label.sk-toggleable__label {background-color: #d4ebff;}#sk-container-id-2 div.sk-serial::before {content: \"\";position: absolute;border-left: 1px solid gray;box-sizing: border-box;top: 0;bottom: 0;left: 50%;z-index: 0;}#sk-container-id-2 div.sk-serial {display: flex;flex-direction: column;align-items: center;background-color: white;padding-right: 0.2em;padding-left: 0.2em;position: relative;}#sk-container-id-2 div.sk-item {position: relative;z-index: 1;}#sk-container-id-2 div.sk-parallel {display: flex;align-items: stretch;justify-content: center;background-color: white;position: relative;}#sk-container-id-2 div.sk-item::before, #sk-container-id-2 div.sk-parallel-item::before {content: \"\";position: absolute;border-left: 1px solid gray;box-sizing: border-box;top: 0;bottom: 0;left: 50%;z-index: -1;}#sk-container-id-2 div.sk-parallel-item {display: flex;flex-direction: column;z-index: 1;position: relative;background-color: white;}#sk-container-id-2 div.sk-parallel-item:first-child::after {align-self: flex-end;width: 50%;}#sk-container-id-2 div.sk-parallel-item:last-child::after {align-self: flex-start;width: 50%;}#sk-container-id-2 div.sk-parallel-item:only-child::after {width: 0;}#sk-container-id-2 div.sk-dashed-wrapped {border: 1px dashed gray;margin: 0 0.4em 0.5em 0.4em;box-sizing: border-box;padding-bottom: 0.4em;background-color: white;}#sk-container-id-2 div.sk-label label {font-family: monospace;font-weight: bold;display: inline-block;line-height: 1.2em;}#sk-container-id-2 div.sk-label-container {text-align: center;}#sk-container-id-2 div.sk-container {/* jupyter's `normalize.less` sets `[hidden] { display: none; }` but bootstrap.min.css set `[hidden] { display: none !important; }` so we also need the `!important` here to be able to override the default hidden behavior on the sphinx rendered scikit-learn.org. See: https://github.com/scikit-learn/scikit-learn/issues/21755 */display: inline-block !important;position: relative;}#sk-container-id-2 div.sk-text-repr-fallback {display: none;}</style><div id=\"sk-container-id-2\" class=\"sk-top-container\"><div class=\"sk-text-repr-fallback\"><pre>LGBMClassifier(verbose=-1)</pre><b>In a Jupyter environment, please rerun this cell to show the HTML representation or trust the notebook. <br />On GitHub, the HTML representation is unable to render, please try loading this page with nbviewer.org.</b></div><div class=\"sk-container\" hidden><div class=\"sk-item\"><div class=\"sk-estimator sk-toggleable\"><input class=\"sk-toggleable__control sk-hidden--visually\" id=\"sk-estimator-id-2\" type=\"checkbox\" checked><label for=\"sk-estimator-id-2\" class=\"sk-toggleable__label sk-toggleable__label-arrow\">LGBMClassifier</label><div class=\"sk-toggleable__content\"><pre>LGBMClassifier(verbose=-1)</pre></div></div></div></div></div>"
      ],
      "text/plain": [
       "LGBMClassifier(verbose=-1)"
      ]
     },
     "execution_count": 34,
     "metadata": {},
     "output_type": "execute_result"
    }
   ],
   "source": [
    "model = LGBMClassifier(n_estimators=100, verbose=-1)#, class_weight={0: .8, 1: .2})\n",
    "# model = LogisticRegression()\n",
    "\n",
    "model.fit(X_train, y_train_class)"
   ]
  },
  {
   "cell_type": "code",
   "execution_count": 35,
   "metadata": {},
   "outputs": [
    {
     "name": "stdout",
     "output_type": "stream",
     "text": [
      "Train ROC-AUC: 0.7581584588057416\n",
      "Valid ROC-AUC: 0.7470393319975079\n"
     ]
    }
   ],
   "source": [
    "print(f'Train ROC-AUC: {roc_auc_score(y_train_class, model.predict_proba(X_train)[:, 1])}')\n",
    "print(f'Valid ROC-AUC: {roc_auc_score(y_valid_class, model.predict_proba(X_valid)[:, 1])}')"
   ]
  },
  {
   "cell_type": "code",
   "execution_count": 36,
   "metadata": {},
   "outputs": [
    {
     "name": "stdout",
     "output_type": "stream",
     "text": [
      "Train ROC-AUC: 0.8430261742560058\n",
      "Valid ROC-AUC: 0.8425436688008952\n"
     ]
    }
   ],
   "source": [
    "print(f'Train ROC-AUC: {f1_score(y_train_class, model.predict(X_train))}')\n",
    "print(f'Valid ROC-AUC: {f1_score(y_valid_class, model.predict(X_valid))}')"
   ]
  },
  {
   "cell_type": "code",
   "execution_count": 42,
   "metadata": {},
   "outputs": [
    {
     "data": {
      "text/plain": [
       "<Axes: >"
      ]
     },
     "execution_count": 42,
     "metadata": {},
     "output_type": "execute_result"
    },
    {
     "data": {
      "image/png": "[encoded data removed]",
      "text/plain": [
       "<Figure size 1500x1000 with 1 Axes>"
      ]
     },
     "metadata": {},
     "output_type": "display_data"
    }
   ],
   "source": [
    "plt.figure(figsize=(15, 10))\n",
    "\n",
    "pd.Series(model.feature_importances_, index=X_train.columns).sort_values().plot(kind='barh')"
   ]
  },
  {
   "cell_type": "code",
   "execution_count": 127,
   "metadata": {},
   "outputs": [],
   "source": [
    "def preprocess(df):\n",
    "    # df = df.drop_duplicates()\n",
    "\n",
    "    data_check_agg = df.groupby(['customer_id', 'startdatetime']).agg({\n",
    "        'revenue': 'sum', \n",
    "        'buy_post': 'first',\n",
    "        'date_diff_post': 'first'\n",
    "    }).reset_index()\n",
    "\n",
    "    data_check_agg['delta'] = data_check_agg.groupby('customer_id')['startdatetime'].diff() \n",
    "\n",
    "    data_check_agg['delta_hours'] = (data_check_agg['delta'].dt.total_seconds() // (60*60)).fillna(0)\n",
    "    data_check_agg['delta_days'] = (data_check_agg['delta'].dt.total_seconds() // (24*60*60)).fillna(0)\n",
    "\n",
    "    data_check_agg = data_check_agg.drop('delta', axis=1)\n",
    "\n",
    "    data_cust_agg = data_check_agg.groupby('customer_id').agg({\n",
    "        'revenue': ['mean', 'median', 'std', 'max', 'min', 'count'],\n",
    "        'delta_hours': ['mean', 'median', 'std', 'max', 'min',], \n",
    "        'delta_days': ['mean', 'median', 'std', 'max', 'min',], \n",
    "        'startdatetime': ['min', 'max'],\n",
    "        'buy_post': 'first',\n",
    "        'date_diff_post': 'first',\n",
    "    }).reset_index()\n",
    "\n",
    "    data_cust_agg.columns = [f'{header}_{stat}' for header, stat in data_cust_agg.columns]\n",
    "\n",
    "    data_cust_agg['recency'] = (data_cust_agg['startdatetime_max'] - data_cust_agg['startdatetime_min']).dt.days\n",
    "    data_cust_agg['T'] = (pd.to_datetime('2023-08-02') - data_cust_agg['startdatetime_min']).dt.days\n",
    "    data_cust_agg['days_from_last_purchase'] = (pd.to_datetime('2023-08-02') - data_cust_agg['startdatetime_max']).dt.days\n",
    "    data_cust_agg['lambda'] = data_cust_agg['revenue_count'] / (data_cust_agg['recency'] + 1)\n",
    "    data_cust_agg = data_cust_agg.drop(['startdatetime_min', 'startdatetime_max'], axis=1)\n",
    "    \n",
    "    return data_cust_agg"
   ]
  },
  {
   "cell_type": "code",
   "execution_count": 128,
   "metadata": {},
   "outputs": [],
   "source": [
    "data_train = preprocess(df_train)"
   ]
  },
  {
   "cell_type": "code",
   "execution_count": 131,
   "metadata": {},
   "outputs": [
    {
     "data": {
      "text/html": [
       "<div>\n",
       "<style scoped>\n",
       "    .dataframe tbody tr th:only-of-type {\n",
       "        vertical-align: middle;\n",
       "    }\n",
       "\n",
       "    .dataframe tbody tr th {\n",
       "        vertical-align: top;\n",
       "    }\n",
       "\n",
       "    .dataframe thead th {\n",
       "        text-align: right;\n",
       "    }\n",
       "</style>\n",
       "<table border=\"1\" class=\"dataframe\">\n",
       "  <thead>\n",
       "    <tr style=\"text-align: right;\">\n",
       "      <th></th>\n",
       "      <th>customer_id_</th>\n",
       "      <th>revenue_mean</th>\n",
       "      <th>revenue_median</th>\n",
       "      <th>revenue_std</th>\n",
       "      <th>revenue_max</th>\n",
       "      <th>revenue_min</th>\n",
       "      <th>revenue_count</th>\n",
       "      <th>delta_hours_mean</th>\n",
       "      <th>delta_hours_median</th>\n",
       "      <th>delta_hours_std</th>\n",
       "      <th>...</th>\n",
       "      <th>delta_days_median</th>\n",
       "      <th>delta_days_std</th>\n",
       "      <th>delta_days_max</th>\n",
       "      <th>delta_days_min</th>\n",
       "      <th>buy_post_first</th>\n",
       "      <th>date_diff_post_first</th>\n",
       "      <th>recency</th>\n",
       "      <th>T</th>\n",
       "      <th>days_from_last_purchase</th>\n",
       "      <th>lambda</th>\n",
       "    </tr>\n",
       "  </thead>\n",
       "  <tbody>\n",
       "    <tr>\n",
       "      <th>0</th>\n",
       "      <td>29891</td>\n",
       "      <td>203.494000</td>\n",
       "      <td>199.960</td>\n",
       "      <td>123.170275</td>\n",
       "      <td>439.98</td>\n",
       "      <td>1.00</td>\n",
       "      <td>25</td>\n",
       "      <td>55.240000</td>\n",
       "      <td>24.0</td>\n",
       "      <td>72.502460</td>\n",
       "      <td>...</td>\n",
       "      <td>1.0</td>\n",
       "      <td>2.998889</td>\n",
       "      <td>11.0</td>\n",
       "      <td>0.0</td>\n",
       "      <td>1</td>\n",
       "      <td>9.0</td>\n",
       "      <td>57</td>\n",
       "      <td>239</td>\n",
       "      <td>181</td>\n",
       "      <td>0.431034</td>\n",
       "    </tr>\n",
       "    <tr>\n",
       "      <th>1</th>\n",
       "      <td>30477</td>\n",
       "      <td>227.024000</td>\n",
       "      <td>229.990</td>\n",
       "      <td>124.933425</td>\n",
       "      <td>499.95</td>\n",
       "      <td>44.99</td>\n",
       "      <td>25</td>\n",
       "      <td>49.400000</td>\n",
       "      <td>23.0</td>\n",
       "      <td>60.578462</td>\n",
       "      <td>...</td>\n",
       "      <td>0.0</td>\n",
       "      <td>2.518597</td>\n",
       "      <td>9.0</td>\n",
       "      <td>0.0</td>\n",
       "      <td>1</td>\n",
       "      <td>10.0</td>\n",
       "      <td>51</td>\n",
       "      <td>301</td>\n",
       "      <td>249</td>\n",
       "      <td>0.480769</td>\n",
       "    </tr>\n",
       "    <tr>\n",
       "      <th>2</th>\n",
       "      <td>31426</td>\n",
       "      <td>391.399583</td>\n",
       "      <td>344.985</td>\n",
       "      <td>334.849322</td>\n",
       "      <td>1079.97</td>\n",
       "      <td>1.00</td>\n",
       "      <td>24</td>\n",
       "      <td>49.708333</td>\n",
       "      <td>34.5</td>\n",
       "      <td>46.635944</td>\n",
       "      <td>...</td>\n",
       "      <td>1.0</td>\n",
       "      <td>1.809796</td>\n",
       "      <td>6.0</td>\n",
       "      <td>0.0</td>\n",
       "      <td>1</td>\n",
       "      <td>4.0</td>\n",
       "      <td>50</td>\n",
       "      <td>81</td>\n",
       "      <td>31</td>\n",
       "      <td>0.470588</td>\n",
       "    </tr>\n",
       "    <tr>\n",
       "      <th>3</th>\n",
       "      <td>44491</td>\n",
       "      <td>128.725000</td>\n",
       "      <td>59.980</td>\n",
       "      <td>144.471912</td>\n",
       "      <td>344.97</td>\n",
       "      <td>49.97</td>\n",
       "      <td>4</td>\n",
       "      <td>166.750000</td>\n",
       "      <td>11.5</td>\n",
       "      <td>318.351352</td>\n",
       "      <td>...</td>\n",
       "      <td>0.0</td>\n",
       "      <td>13.000000</td>\n",
       "      <td>26.0</td>\n",
       "      <td>0.0</td>\n",
       "      <td>1</td>\n",
       "      <td>42.0</td>\n",
       "      <td>27</td>\n",
       "      <td>52</td>\n",
       "      <td>24</td>\n",
       "      <td>0.142857</td>\n",
       "    </tr>\n",
       "    <tr>\n",
       "      <th>4</th>\n",
       "      <td>44939</td>\n",
       "      <td>554.943333</td>\n",
       "      <td>554.940</td>\n",
       "      <td>49.985000</td>\n",
       "      <td>604.93</td>\n",
       "      <td>504.96</td>\n",
       "      <td>3</td>\n",
       "      <td>123.333333</td>\n",
       "      <td>172.0</td>\n",
       "      <td>107.598017</td>\n",
       "      <td>...</td>\n",
       "      <td>7.0</td>\n",
       "      <td>4.358899</td>\n",
       "      <td>8.0</td>\n",
       "      <td>0.0</td>\n",
       "      <td>1</td>\n",
       "      <td>9.0</td>\n",
       "      <td>15</td>\n",
       "      <td>234</td>\n",
       "      <td>219</td>\n",
       "      <td>0.187500</td>\n",
       "    </tr>\n",
       "  </tbody>\n",
       "</table>\n",
       "<p>5 rows × 23 columns</p>\n",
       "</div>"
      ],
      "text/plain": [
       "   customer_id_  revenue_mean  revenue_median  revenue_std  revenue_max  \\\n",
       "0         29891    203.494000         199.960   123.170275       439.98   \n",
       "1         30477    227.024000         229.990   124.933425       499.95   \n",
       "2         31426    391.399583         344.985   334.849322      1079.97   \n",
       "3         44491    128.725000          59.980   144.471912       344.97   \n",
       "4         44939    554.943333         554.940    49.985000       604.93   \n",
       "\n",
       "   revenue_min  revenue_count  delta_hours_mean  delta_hours_median  \\\n",
       "0         1.00             25         55.240000                24.0   \n",
       "1        44.99             25         49.400000                23.0   \n",
       "2         1.00             24         49.708333                34.5   \n",
       "3        49.97              4        166.750000                11.5   \n",
       "4       504.96              3        123.333333               172.0   \n",
       "\n",
       "   delta_hours_std  ...  delta_days_median  delta_days_std  delta_days_max  \\\n",
       "0        72.502460  ...                1.0        2.998889            11.0   \n",
       "1        60.578462  ...                0.0        2.518597             9.0   \n",
       "2        46.635944  ...                1.0        1.809796             6.0   \n",
       "3       318.351352  ...                0.0       13.000000            26.0   \n",
       "4       107.598017  ...                7.0        4.358899             8.0   \n",
       "\n",
       "   delta_days_min  buy_post_first  date_diff_post_first  recency    T  \\\n",
       "0             0.0               1                   9.0       57  239   \n",
       "1             0.0               1                  10.0       51  301   \n",
       "2             0.0               1                   4.0       50   81   \n",
       "3             0.0               1                  42.0       27   52   \n",
       "4             0.0               1                   9.0       15  234   \n",
       "\n",
       "   days_from_last_purchase    lambda  \n",
       "0                      181  0.431034  \n",
       "1                      249  0.480769  \n",
       "2                       31  0.470588  \n",
       "3                       24  0.142857  \n",
       "4                      219  0.187500  \n",
       "\n",
       "[5 rows x 23 columns]"
      ]
     },
     "execution_count": 131,
     "metadata": {},
     "output_type": "execute_result"
    }
   ],
   "source": [
    "data_train.head()"
   ]
  },
  {
   "cell_type": "code",
   "execution_count": 132,
   "metadata": {},
   "outputs": [],
   "source": [
    "data_test = preprocess(df_test)"
   ]
  },
  {
   "cell_type": "code",
   "execution_count": 133,
   "metadata": {},
   "outputs": [
    {
     "data": {
      "text/html": [
       "<div>\n",
       "<style scoped>\n",
       "    .dataframe tbody tr th:only-of-type {\n",
       "        vertical-align: middle;\n",
       "    }\n",
       "\n",
       "    .dataframe tbody tr th {\n",
       "        vertical-align: top;\n",
       "    }\n",
       "\n",
       "    .dataframe thead th {\n",
       "        text-align: right;\n",
       "    }\n",
       "</style>\n",
       "<table border=\"1\" class=\"dataframe\">\n",
       "  <thead>\n",
       "    <tr style=\"text-align: right;\">\n",
       "      <th></th>\n",
       "      <th>customer_id_</th>\n",
       "      <th>revenue_mean</th>\n",
       "      <th>revenue_median</th>\n",
       "      <th>revenue_std</th>\n",
       "      <th>revenue_max</th>\n",
       "      <th>revenue_min</th>\n",
       "      <th>revenue_count</th>\n",
       "      <th>delta_hours_mean</th>\n",
       "      <th>delta_hours_median</th>\n",
       "      <th>delta_hours_std</th>\n",
       "      <th>...</th>\n",
       "      <th>delta_days_median</th>\n",
       "      <th>delta_days_std</th>\n",
       "      <th>delta_days_max</th>\n",
       "      <th>delta_days_min</th>\n",
       "      <th>buy_post_first</th>\n",
       "      <th>date_diff_post_first</th>\n",
       "      <th>recency</th>\n",
       "      <th>T</th>\n",
       "      <th>days_from_last_purchase</th>\n",
       "      <th>lambda</th>\n",
       "    </tr>\n",
       "  </thead>\n",
       "  <tbody>\n",
       "    <tr>\n",
       "      <th>0</th>\n",
       "      <td>52341</td>\n",
       "      <td>563.942500</td>\n",
       "      <td>549.95</td>\n",
       "      <td>65.700330</td>\n",
       "      <td>655.93</td>\n",
       "      <td>499.94</td>\n",
       "      <td>4</td>\n",
       "      <td>192.000000</td>\n",
       "      <td>168.0</td>\n",
       "      <td>178.529176</td>\n",
       "      <td>...</td>\n",
       "      <td>6.5</td>\n",
       "      <td>7.500000</td>\n",
       "      <td>18.0</td>\n",
       "      <td>0.0</td>\n",
       "      <td>0</td>\n",
       "      <td>0</td>\n",
       "      <td>32</td>\n",
       "      <td>178</td>\n",
       "      <td>146</td>\n",
       "      <td>0.121212</td>\n",
       "    </tr>\n",
       "    <tr>\n",
       "      <th>1</th>\n",
       "      <td>69175</td>\n",
       "      <td>430.306667</td>\n",
       "      <td>399.98</td>\n",
       "      <td>62.142941</td>\n",
       "      <td>554.96</td>\n",
       "      <td>374.98</td>\n",
       "      <td>9</td>\n",
       "      <td>92.777778</td>\n",
       "      <td>24.0</td>\n",
       "      <td>131.890843</td>\n",
       "      <td>...</td>\n",
       "      <td>1.0</td>\n",
       "      <td>5.456902</td>\n",
       "      <td>13.0</td>\n",
       "      <td>0.0</td>\n",
       "      <td>0</td>\n",
       "      <td>0</td>\n",
       "      <td>34</td>\n",
       "      <td>40</td>\n",
       "      <td>5</td>\n",
       "      <td>0.257143</td>\n",
       "    </tr>\n",
       "    <tr>\n",
       "      <th>2</th>\n",
       "      <td>73427</td>\n",
       "      <td>254.240323</td>\n",
       "      <td>169.98</td>\n",
       "      <td>218.360745</td>\n",
       "      <td>869.95</td>\n",
       "      <td>1.00</td>\n",
       "      <td>31</td>\n",
       "      <td>45.096774</td>\n",
       "      <td>45.0</td>\n",
       "      <td>43.356164</td>\n",
       "      <td>...</td>\n",
       "      <td>1.0</td>\n",
       "      <td>1.786448</td>\n",
       "      <td>8.0</td>\n",
       "      <td>0.0</td>\n",
       "      <td>0</td>\n",
       "      <td>0</td>\n",
       "      <td>58</td>\n",
       "      <td>212</td>\n",
       "      <td>153</td>\n",
       "      <td>0.525424</td>\n",
       "    </tr>\n",
       "    <tr>\n",
       "      <th>3</th>\n",
       "      <td>134577</td>\n",
       "      <td>372.970000</td>\n",
       "      <td>290.98</td>\n",
       "      <td>310.195853</td>\n",
       "      <td>799.93</td>\n",
       "      <td>109.99</td>\n",
       "      <td>4</td>\n",
       "      <td>35.000000</td>\n",
       "      <td>0.0</td>\n",
       "      <td>70.000000</td>\n",
       "      <td>...</td>\n",
       "      <td>0.0</td>\n",
       "      <td>2.500000</td>\n",
       "      <td>5.0</td>\n",
       "      <td>0.0</td>\n",
       "      <td>0</td>\n",
       "      <td>0</td>\n",
       "      <td>5</td>\n",
       "      <td>316</td>\n",
       "      <td>310</td>\n",
       "      <td>0.666667</td>\n",
       "    </tr>\n",
       "    <tr>\n",
       "      <th>4</th>\n",
       "      <td>156357</td>\n",
       "      <td>558.963333</td>\n",
       "      <td>644.96</td>\n",
       "      <td>245.551523</td>\n",
       "      <td>749.95</td>\n",
       "      <td>281.98</td>\n",
       "      <td>3</td>\n",
       "      <td>344.000000</td>\n",
       "      <td>138.0</td>\n",
       "      <td>481.285778</td>\n",
       "      <td>...</td>\n",
       "      <td>5.0</td>\n",
       "      <td>20.074860</td>\n",
       "      <td>37.0</td>\n",
       "      <td>0.0</td>\n",
       "      <td>0</td>\n",
       "      <td>0</td>\n",
       "      <td>43</td>\n",
       "      <td>227</td>\n",
       "      <td>184</td>\n",
       "      <td>0.068182</td>\n",
       "    </tr>\n",
       "  </tbody>\n",
       "</table>\n",
       "<p>5 rows × 23 columns</p>\n",
       "</div>"
      ],
      "text/plain": [
       "   customer_id_  revenue_mean  revenue_median  revenue_std  revenue_max  \\\n",
       "0         52341    563.942500          549.95    65.700330       655.93   \n",
       "1         69175    430.306667          399.98    62.142941       554.96   \n",
       "2         73427    254.240323          169.98   218.360745       869.95   \n",
       "3        134577    372.970000          290.98   310.195853       799.93   \n",
       "4        156357    558.963333          644.96   245.551523       749.95   \n",
       "\n",
       "   revenue_min  revenue_count  delta_hours_mean  delta_hours_median  \\\n",
       "0       499.94              4        192.000000               168.0   \n",
       "1       374.98              9         92.777778                24.0   \n",
       "2         1.00             31         45.096774                45.0   \n",
       "3       109.99              4         35.000000                 0.0   \n",
       "4       281.98              3        344.000000               138.0   \n",
       "\n",
       "   delta_hours_std  ...  delta_days_median  delta_days_std  delta_days_max  \\\n",
       "0       178.529176  ...                6.5        7.500000            18.0   \n",
       "1       131.890843  ...                1.0        5.456902            13.0   \n",
       "2        43.356164  ...                1.0        1.786448             8.0   \n",
       "3        70.000000  ...                0.0        2.500000             5.0   \n",
       "4       481.285778  ...                5.0       20.074860            37.0   \n",
       "\n",
       "   delta_days_min  buy_post_first  date_diff_post_first  recency    T  \\\n",
       "0             0.0               0                     0       32  178   \n",
       "1             0.0               0                     0       34   40   \n",
       "2             0.0               0                     0       58  212   \n",
       "3             0.0               0                     0        5  316   \n",
       "4             0.0               0                     0       43  227   \n",
       "\n",
       "   days_from_last_purchase    lambda  \n",
       "0                      146  0.121212  \n",
       "1                        5  0.257143  \n",
       "2                      153  0.525424  \n",
       "3                      310  0.666667  \n",
       "4                      184  0.068182  \n",
       "\n",
       "[5 rows x 23 columns]"
      ]
     },
     "execution_count": 133,
     "metadata": {},
     "output_type": "execute_result"
    }
   ],
   "source": [
    "data_test.head()"
   ]
  },
  {
   "cell_type": "code",
   "execution_count": 103,
   "metadata": {},
   "outputs": [],
   "source": [
    "# data_train, data_valid = train_test_split(data_cust_agg, test_size=.2, random_state=42)"
   ]
  },
  {
   "cell_type": "code",
   "execution_count": 135,
   "metadata": {},
   "outputs": [],
   "source": [
    "X_train = data_train.drop(['date_diff_post_first', 'buy_post_first', 'customer_id_'], axis=1)\n",
    "y_train_class = data_train['buy_post_first']\n",
    "y_train_reg = data_train['date_diff_post_first']\n",
    "\n",
    "# X_valid = data_valid.drop(['date_diff_post_first', 'buy_post_first', 'customer_id_', 'startdatetime_min', 'startdatetime_max'], axis=1)\n",
    "# y_valid_class = data_valid['buy_post_first']\n",
    "# y_valid_reg = data_valid['date_diff_post_first']\n",
    "\n",
    "X_test = data_test.drop(['date_diff_post_first', 'buy_post_first', 'customer_id_'], axis=1)"
   ]
  },
  {
   "cell_type": "code",
   "execution_count": 164,
   "metadata": {},
   "outputs": [
    {
     "data": {
      "text/plain": [
       "0.71819"
      ]
     },
     "execution_count": 164,
     "metadata": {},
     "output_type": "execute_result"
    }
   ],
   "source": [
    "y_train_class.mean()"
   ]
  },
  {
   "cell_type": "code",
   "execution_count": 136,
   "metadata": {},
   "outputs": [
    {
     "name": "stdout",
     "output_type": "stream",
     "text": [
      "ROC-AUC: 0.749 ± 0.001\n"
     ]
    }
   ],
   "source": [
    "model = LGBMClassifier(verbose=-1)\n",
    "# model = LogisticRegression()\n",
    "\n",
    "res = cross_val_score(model, X_train, y_train_class, scoring='roc_auc')\n",
    "print(f'ROC-AUC: {res.mean():.3f} ± {res.std():.3f}')"
   ]
  },
  {
   "cell_type": "code",
   "execution_count": 137,
   "metadata": {},
   "outputs": [
    {
     "name": "stdout",
     "output_type": "stream",
     "text": [
      "f1-score: 0.841 ± 0.001\n"
     ]
    }
   ],
   "source": [
    "res = cross_val_score(model, X_train, y_train_class, scoring='f1')\n",
    "print(f'f1-score: {res.mean():.3f} ± {res.std():.3f}')"
   ]
  },
  {
   "cell_type": "code",
   "execution_count": 138,
   "metadata": {},
   "outputs": [
    {
     "name": "stdout",
     "output_type": "stream",
     "text": [
      "RMSE: 16.686 ± 0.207\n"
     ]
    }
   ],
   "source": [
    "model = LGBMRegressor(verbose=-1)\n",
    "# model = LinearRegression()\n",
    "\n",
    "res = cross_val_score(model, X_train, y_train_reg.fillna(0), scoring='neg_root_mean_squared_error')\n",
    "print(f'RMSE: {-res.mean():.3f} ± {res.std():.3f}')"
   ]
  },
  {
   "cell_type": "code",
   "execution_count": 141,
   "metadata": {},
   "outputs": [
    {
     "data": {
      "text/html": [
       "<style>#sk-container-id-1 {color: black;}#sk-container-id-1 pre{padding: 0;}#sk-container-id-1 div.sk-toggleable {background-color: white;}#sk-container-id-1 label.sk-toggleable__label {cursor: pointer;display: block;width: 100%;margin-bottom: 0;padding: 0.3em;box-sizing: border-box;text-align: center;}#sk-container-id-1 label.sk-toggleable__label-arrow:before {content: \"▸\";float: left;margin-right: 0.25em;color: #696969;}#sk-container-id-1 label.sk-toggleable__label-arrow:hover:before {color: black;}#sk-container-id-1 div.sk-estimator:hover label.sk-toggleable__label-arrow:before {color: black;}#sk-container-id-1 div.sk-toggleable__content {max-height: 0;max-width: 0;overflow: hidden;text-align: left;background-color: #f0f8ff;}#sk-container-id-1 div.sk-toggleable__content pre {margin: 0.2em;color: black;border-radius: 0.25em;background-color: #f0f8ff;}#sk-container-id-1 input.sk-toggleable__control:checked~div.sk-toggleable__content {max-height: 200px;max-width: 100%;overflow: auto;}#sk-container-id-1 input.sk-toggleable__control:checked~label.sk-toggleable__label-arrow:before {content: \"▾\";}#sk-container-id-1 div.sk-estimator input.sk-toggleable__control:checked~label.sk-toggleable__label {background-color: #d4ebff;}#sk-container-id-1 div.sk-label input.sk-toggleable__control:checked~label.sk-toggleable__label {background-color: #d4ebff;}#sk-container-id-1 input.sk-hidden--visually {border: 0;clip: rect(1px 1px 1px 1px);clip: rect(1px, 1px, 1px, 1px);height: 1px;margin: -1px;overflow: hidden;padding: 0;position: absolute;width: 1px;}#sk-container-id-1 div.sk-estimator {font-family: monospace;background-color: #f0f8ff;border: 1px dotted black;border-radius: 0.25em;box-sizing: border-box;margin-bottom: 0.5em;}#sk-container-id-1 div.sk-estimator:hover {background-color: #d4ebff;}#sk-container-id-1 div.sk-parallel-item::after {content: \"\";width: 100%;border-bottom: 1px solid gray;flex-grow: 1;}#sk-container-id-1 div.sk-label:hover label.sk-toggleable__label {background-color: #d4ebff;}#sk-container-id-1 div.sk-serial::before {content: \"\";position: absolute;border-left: 1px solid gray;box-sizing: border-box;top: 0;bottom: 0;left: 50%;z-index: 0;}#sk-container-id-1 div.sk-serial {display: flex;flex-direction: column;align-items: center;background-color: white;padding-right: 0.2em;padding-left: 0.2em;position: relative;}#sk-container-id-1 div.sk-item {position: relative;z-index: 1;}#sk-container-id-1 div.sk-parallel {display: flex;align-items: stretch;justify-content: center;background-color: white;position: relative;}#sk-container-id-1 div.sk-item::before, #sk-container-id-1 div.sk-parallel-item::before {content: \"\";position: absolute;border-left: 1px solid gray;box-sizing: border-box;top: 0;bottom: 0;left: 50%;z-index: -1;}#sk-container-id-1 div.sk-parallel-item {display: flex;flex-direction: column;z-index: 1;position: relative;background-color: white;}#sk-container-id-1 div.sk-parallel-item:first-child::after {align-self: flex-end;width: 50%;}#sk-container-id-1 div.sk-parallel-item:last-child::after {align-self: flex-start;width: 50%;}#sk-container-id-1 div.sk-parallel-item:only-child::after {width: 0;}#sk-container-id-1 div.sk-dashed-wrapped {border: 1px dashed gray;margin: 0 0.4em 0.5em 0.4em;box-sizing: border-box;padding-bottom: 0.4em;background-color: white;}#sk-container-id-1 div.sk-label label {font-family: monospace;font-weight: bold;display: inline-block;line-height: 1.2em;}#sk-container-id-1 div.sk-label-container {text-align: center;}#sk-container-id-1 div.sk-container {/* jupyter's `normalize.less` sets `[hidden] { display: none; }` but bootstrap.min.css set `[hidden] { display: none !important; }` so we also need the `!important` here to be able to override the default hidden behavior on the sphinx rendered scikit-learn.org. See: https://github.com/scikit-learn/scikit-learn/issues/21755 */display: inline-block !important;position: relative;}#sk-container-id-1 div.sk-text-repr-fallback {display: none;}</style><div id=\"sk-container-id-1\" class=\"sk-top-container\"><div class=\"sk-text-repr-fallback\"><pre>LGBMClassifier(verbose=-1)</pre><b>In a Jupyter environment, please rerun this cell to show the HTML representation or trust the notebook. <br />On GitHub, the HTML representation is unable to render, please try loading this page with nbviewer.org.</b></div><div class=\"sk-container\" hidden><div class=\"sk-item\"><div class=\"sk-estimator sk-toggleable\"><input class=\"sk-toggleable__control sk-hidden--visually\" id=\"sk-estimator-id-1\" type=\"checkbox\" checked><label for=\"sk-estimator-id-1\" class=\"sk-toggleable__label sk-toggleable__label-arrow\">LGBMClassifier</label><div class=\"sk-toggleable__content\"><pre>LGBMClassifier(verbose=-1)</pre></div></div></div></div></div>"
      ],
      "text/plain": [
       "LGBMClassifier(verbose=-1)"
      ]
     },
     "execution_count": 141,
     "metadata": {},
     "output_type": "execute_result"
    }
   ],
   "source": [
    "model_class = LGBMClassifier(verbose=-1)\n",
    "model_class.fit(X_train, y_train_class)"
   ]
  },
  {
   "cell_type": "code",
   "execution_count": 144,
   "metadata": {},
   "outputs": [
    {
     "data": {
      "text/html": [
       "<style>#sk-container-id-3 {color: black;}#sk-container-id-3 pre{padding: 0;}#sk-container-id-3 div.sk-toggleable {background-color: white;}#sk-container-id-3 label.sk-toggleable__label {cursor: pointer;display: block;width: 100%;margin-bottom: 0;padding: 0.3em;box-sizing: border-box;text-align: center;}#sk-container-id-3 label.sk-toggleable__label-arrow:before {content: \"▸\";float: left;margin-right: 0.25em;color: #696969;}#sk-container-id-3 label.sk-toggleable__label-arrow:hover:before {color: black;}#sk-container-id-3 div.sk-estimator:hover label.sk-toggleable__label-arrow:before {color: black;}#sk-container-id-3 div.sk-toggleable__content {max-height: 0;max-width: 0;overflow: hidden;text-align: left;background-color: #f0f8ff;}#sk-container-id-3 div.sk-toggleable__content pre {margin: 0.2em;color: black;border-radius: 0.25em;background-color: #f0f8ff;}#sk-container-id-3 input.sk-toggleable__control:checked~div.sk-toggleable__content {max-height: 200px;max-width: 100%;overflow: auto;}#sk-container-id-3 input.sk-toggleable__control:checked~label.sk-toggleable__label-arrow:before {content: \"▾\";}#sk-container-id-3 div.sk-estimator input.sk-toggleable__control:checked~label.sk-toggleable__label {background-color: #d4ebff;}#sk-container-id-3 div.sk-label input.sk-toggleable__control:checked~label.sk-toggleable__label {background-color: #d4ebff;}#sk-container-id-3 input.sk-hidden--visually {border: 0;clip: rect(1px 1px 1px 1px);clip: rect(1px, 1px, 1px, 1px);height: 1px;margin: -1px;overflow: hidden;padding: 0;position: absolute;width: 1px;}#sk-container-id-3 div.sk-estimator {font-family: monospace;background-color: #f0f8ff;border: 1px dotted black;border-radius: 0.25em;box-sizing: border-box;margin-bottom: 0.5em;}#sk-container-id-3 div.sk-estimator:hover {background-color: #d4ebff;}#sk-container-id-3 div.sk-parallel-item::after {content: \"\";width: 100%;border-bottom: 1px solid gray;flex-grow: 1;}#sk-container-id-3 div.sk-label:hover label.sk-toggleable__label {background-color: #d4ebff;}#sk-container-id-3 div.sk-serial::before {content: \"\";position: absolute;border-left: 1px solid gray;box-sizing: border-box;top: 0;bottom: 0;left: 50%;z-index: 0;}#sk-container-id-3 div.sk-serial {display: flex;flex-direction: column;align-items: center;background-color: white;padding-right: 0.2em;padding-left: 0.2em;position: relative;}#sk-container-id-3 div.sk-item {position: relative;z-index: 1;}#sk-container-id-3 div.sk-parallel {display: flex;align-items: stretch;justify-content: center;background-color: white;position: relative;}#sk-container-id-3 div.sk-item::before, #sk-container-id-3 div.sk-parallel-item::before {content: \"\";position: absolute;border-left: 1px solid gray;box-sizing: border-box;top: 0;bottom: 0;left: 50%;z-index: -1;}#sk-container-id-3 div.sk-parallel-item {display: flex;flex-direction: column;z-index: 1;position: relative;background-color: white;}#sk-container-id-3 div.sk-parallel-item:first-child::after {align-self: flex-end;width: 50%;}#sk-container-id-3 div.sk-parallel-item:last-child::after {align-self: flex-start;width: 50%;}#sk-container-id-3 div.sk-parallel-item:only-child::after {width: 0;}#sk-container-id-3 div.sk-dashed-wrapped {border: 1px dashed gray;margin: 0 0.4em 0.5em 0.4em;box-sizing: border-box;padding-bottom: 0.4em;background-color: white;}#sk-container-id-3 div.sk-label label {font-family: monospace;font-weight: bold;display: inline-block;line-height: 1.2em;}#sk-container-id-3 div.sk-label-container {text-align: center;}#sk-container-id-3 div.sk-container {/* jupyter's `normalize.less` sets `[hidden] { display: none; }` but bootstrap.min.css set `[hidden] { display: none !important; }` so we also need the `!important` here to be able to override the default hidden behavior on the sphinx rendered scikit-learn.org. See: https://github.com/scikit-learn/scikit-learn/issues/21755 */display: inline-block !important;position: relative;}#sk-container-id-3 div.sk-text-repr-fallback {display: none;}</style><div id=\"sk-container-id-3\" class=\"sk-top-container\"><div class=\"sk-text-repr-fallback\"><pre>LGBMRegressor(verbose=-1)</pre><b>In a Jupyter environment, please rerun this cell to show the HTML representation or trust the notebook. <br />On GitHub, the HTML representation is unable to render, please try loading this page with nbviewer.org.</b></div><div class=\"sk-container\" hidden><div class=\"sk-item\"><div class=\"sk-estimator sk-toggleable\"><input class=\"sk-toggleable__control sk-hidden--visually\" id=\"sk-estimator-id-3\" type=\"checkbox\" checked><label for=\"sk-estimator-id-3\" class=\"sk-toggleable__label sk-toggleable__label-arrow\">LGBMRegressor</label><div class=\"sk-toggleable__content\"><pre>LGBMRegressor(verbose=-1)</pre></div></div></div></div></div>"
      ],
      "text/plain": [
       "LGBMRegressor(verbose=-1)"
      ]
     },
     "execution_count": 144,
     "metadata": {},
     "output_type": "execute_result"
    }
   ],
   "source": [
    "model_reg = LGBMRegressor(verbose=-1)\n",
    "model_reg.fit(X_train, y_train_reg.fillna(0))"
   ]
  },
  {
   "cell_type": "code",
   "execution_count": 167,
   "metadata": {},
   "outputs": [],
   "source": [
    "pred_class = model_class.predict_proba(X_test)[:, 1]\n",
    "pred_reg = model_reg.predict(X_test)"
   ]
  },
  {
   "cell_type": "code",
   "execution_count": 171,
   "metadata": {},
   "outputs": [],
   "source": [
    "b = []\n",
    "\n",
    "for t in np.linspace(0, 1, 100):\n",
    "    b.append((pred_class >= t).mean())"
   ]
  },
  {
   "cell_type": "code",
   "execution_count": 177,
   "metadata": {},
   "outputs": [
    {
     "data": {
      "text/plain": [
       "array([0, 1, 1, ..., 0, 0, 0], dtype=int32)"
      ]
     },
     "execution_count": 177,
     "metadata": {},
     "output_type": "execute_result"
    }
   ],
   "source": [
    "#.mean()"
   ]
  },
  {
   "cell_type": "code",
   "execution_count": 173,
   "metadata": {},
   "outputs": [
    {
     "data": {
      "text/plain": [
       "[<matplotlib.lines.Line2D at 0x7f3430efb8e0>]"
      ]
     },
     "execution_count": 173,
     "metadata": {},
     "output_type": "execute_result"
    },
    {
     "data": {
      "image/png": "[encoded data removed]",
      "text/plain": [
       "<Figure size 640x480 with 1 Axes>"
      ]
     },
     "metadata": {},
     "output_type": "display_data"
    }
   ],
   "source": [
    "plt.plot(b)"
   ]
  },
  {
   "cell_type": "code",
   "execution_count": 178,
   "metadata": {},
   "outputs": [],
   "source": [
    "sub = pd.DataFrame()\n",
    "\n",
    "sub['customer_id'] = data_test['customer_id_']\n",
    "sub['date_diff_post'] = pred_reg\n",
    "sub['buy_post'] = np.int32(pred_class >= 0.85)"
   ]
  },
  {
   "cell_type": "code",
   "execution_count": 180,
   "metadata": {},
   "outputs": [],
   "source": [
    "sub.to_csv('dump_correction.csv', sep=';', index=False)"
   ]
  },
  {
   "cell_type": "code",
   "execution_count": 182,
   "metadata": {},
   "outputs": [
    {
     "data": {
      "text/plain": [
       "customer_id       2.074861e+07\n",
       "date_diff_post    1.756574e+01\n",
       "buy_post          2.083341e-01\n",
       "dtype: float64"
      ]
     },
     "execution_count": 182,
     "metadata": {},
     "output_type": "execute_result"
    }
   ],
   "source": [
    "sub.mean()"
   ]
  },
  {
   "cell_type": "code",
   "execution_count": 157,
   "metadata": {},
   "outputs": [
    {
     "data": {
      "text/html": [
       "<div>\n",
       "<style scoped>\n",
       "    .dataframe tbody tr th:only-of-type {\n",
       "        vertical-align: middle;\n",
       "    }\n",
       "\n",
       "    .dataframe tbody tr th {\n",
       "        vertical-align: top;\n",
       "    }\n",
       "\n",
       "    .dataframe thead th {\n",
       "        text-align: right;\n",
       "    }\n",
       "</style>\n",
       "<table border=\"1\" class=\"dataframe\">\n",
       "  <thead>\n",
       "    <tr style=\"text-align: right;\">\n",
       "      <th></th>\n",
       "      <th>customer_id</th>\n",
       "      <th>date_diff_post</th>\n",
       "      <th>buy_post</th>\n",
       "    </tr>\n",
       "  </thead>\n",
       "  <tbody>\n",
       "    <tr>\n",
       "      <th>0</th>\n",
       "      <td>13220760</td>\n",
       "      <td>0</td>\n",
       "      <td>0</td>\n",
       "    </tr>\n",
       "    <tr>\n",
       "      <th>1</th>\n",
       "      <td>30315975</td>\n",
       "      <td>0</td>\n",
       "      <td>0</td>\n",
       "    </tr>\n",
       "    <tr>\n",
       "      <th>2</th>\n",
       "      <td>21679985</td>\n",
       "      <td>0</td>\n",
       "      <td>0</td>\n",
       "    </tr>\n",
       "    <tr>\n",
       "      <th>3</th>\n",
       "      <td>29754274</td>\n",
       "      <td>0</td>\n",
       "      <td>0</td>\n",
       "    </tr>\n",
       "    <tr>\n",
       "      <th>4</th>\n",
       "      <td>7797823</td>\n",
       "      <td>0</td>\n",
       "      <td>0</td>\n",
       "    </tr>\n",
       "    <tr>\n",
       "      <th>...</th>\n",
       "      <td>...</td>\n",
       "      <td>...</td>\n",
       "      <td>...</td>\n",
       "    </tr>\n",
       "    <tr>\n",
       "      <th>112329</th>\n",
       "      <td>14023374</td>\n",
       "      <td>0</td>\n",
       "      <td>0</td>\n",
       "    </tr>\n",
       "    <tr>\n",
       "      <th>112330</th>\n",
       "      <td>34923292</td>\n",
       "      <td>0</td>\n",
       "      <td>0</td>\n",
       "    </tr>\n",
       "    <tr>\n",
       "      <th>112331</th>\n",
       "      <td>32761835</td>\n",
       "      <td>0</td>\n",
       "      <td>0</td>\n",
       "    </tr>\n",
       "    <tr>\n",
       "      <th>112332</th>\n",
       "      <td>38322785</td>\n",
       "      <td>0</td>\n",
       "      <td>0</td>\n",
       "    </tr>\n",
       "    <tr>\n",
       "      <th>112333</th>\n",
       "      <td>22730497</td>\n",
       "      <td>0</td>\n",
       "      <td>0</td>\n",
       "    </tr>\n",
       "  </tbody>\n",
       "</table>\n",
       "<p>112334 rows × 3 columns</p>\n",
       "</div>"
      ],
      "text/plain": [
       "        customer_id  date_diff_post  buy_post\n",
       "0          13220760               0         0\n",
       "1          30315975               0         0\n",
       "2          21679985               0         0\n",
       "3          29754274               0         0\n",
       "4           7797823               0         0\n",
       "...             ...             ...       ...\n",
       "112329     14023374               0         0\n",
       "112330     34923292               0         0\n",
       "112331     32761835               0         0\n",
       "112332     38322785               0         0\n",
       "112333     22730497               0         0\n",
       "\n",
       "[112334 rows x 3 columns]"
      ]
     },
     "execution_count": 157,
     "metadata": {},
     "output_type": "execute_result"
    }
   ],
   "source": [
    "submission = pd.read_csv('submission.csv', sep=';')\n",
    "submission"
   ]
  },
  {
   "cell_type": "code",
   "execution_count": 161,
   "metadata": {},
   "outputs": [
    {
     "data": {
      "text/html": [
       "<div>\n",
       "<style scoped>\n",
       "    .dataframe tbody tr th:only-of-type {\n",
       "        vertical-align: middle;\n",
       "    }\n",
       "\n",
       "    .dataframe tbody tr th {\n",
       "        vertical-align: top;\n",
       "    }\n",
       "\n",
       "    .dataframe thead th {\n",
       "        text-align: right;\n",
       "    }\n",
       "</style>\n",
       "<table border=\"1\" class=\"dataframe\">\n",
       "  <thead>\n",
       "    <tr style=\"text-align: right;\">\n",
       "      <th></th>\n",
       "      <th>customer_id</th>\n",
       "      <th>date_diff_post</th>\n",
       "      <th>buy_post</th>\n",
       "    </tr>\n",
       "  </thead>\n",
       "  <tbody>\n",
       "    <tr>\n",
       "      <th>0</th>\n",
       "      <td>13220760</td>\n",
       "      <td>0</td>\n",
       "      <td>0</td>\n",
       "    </tr>\n",
       "    <tr>\n",
       "      <th>1</th>\n",
       "      <td>30315975</td>\n",
       "      <td>0</td>\n",
       "      <td>0</td>\n",
       "    </tr>\n",
       "    <tr>\n",
       "      <th>2</th>\n",
       "      <td>21679985</td>\n",
       "      <td>0</td>\n",
       "      <td>0</td>\n",
       "    </tr>\n",
       "    <tr>\n",
       "      <th>3</th>\n",
       "      <td>29754274</td>\n",
       "      <td>0</td>\n",
       "      <td>0</td>\n",
       "    </tr>\n",
       "    <tr>\n",
       "      <th>4</th>\n",
       "      <td>7797823</td>\n",
       "      <td>0</td>\n",
       "      <td>0</td>\n",
       "    </tr>\n",
       "    <tr>\n",
       "      <th>...</th>\n",
       "      <td>...</td>\n",
       "      <td>...</td>\n",
       "      <td>...</td>\n",
       "    </tr>\n",
       "    <tr>\n",
       "      <th>112329</th>\n",
       "      <td>14023374</td>\n",
       "      <td>0</td>\n",
       "      <td>0</td>\n",
       "    </tr>\n",
       "    <tr>\n",
       "      <th>112330</th>\n",
       "      <td>34923292</td>\n",
       "      <td>0</td>\n",
       "      <td>0</td>\n",
       "    </tr>\n",
       "    <tr>\n",
       "      <th>112331</th>\n",
       "      <td>32761835</td>\n",
       "      <td>0</td>\n",
       "      <td>0</td>\n",
       "    </tr>\n",
       "    <tr>\n",
       "      <th>112332</th>\n",
       "      <td>38322785</td>\n",
       "      <td>0</td>\n",
       "      <td>0</td>\n",
       "    </tr>\n",
       "    <tr>\n",
       "      <th>112333</th>\n",
       "      <td>22730497</td>\n",
       "      <td>0</td>\n",
       "      <td>0</td>\n",
       "    </tr>\n",
       "  </tbody>\n",
       "</table>\n",
       "<p>112334 rows × 3 columns</p>\n",
       "</div>"
      ],
      "text/plain": [
       "        customer_id  date_diff_post  buy_post\n",
       "0          13220760               0         0\n",
       "1          30315975               0         0\n",
       "2          21679985               0         0\n",
       "3          29754274               0         0\n",
       "4           7797823               0         0\n",
       "...             ...             ...       ...\n",
       "112329     14023374               0         0\n",
       "112330     34923292               0         0\n",
       "112331     32761835               0         0\n",
       "112332     38322785               0         0\n",
       "112333     22730497               0         0\n",
       "\n",
       "[112334 rows x 3 columns]"
      ]
     },
     "execution_count": 161,
     "metadata": {},
     "output_type": "execute_result"
    }
   ],
   "source": [
    "submission"
   ]
  },
  {
   "cell_type": "code",
   "execution_count": 162,
   "metadata": {},
   "outputs": [],
   "source": [
    "submission[['customer_id']].merge(sub).to_csv('second_sub.csv', sep=';', index=False)\n",
    "# sub.to_csv('first_sub.csv', sep=';', index=False)"
   ]
  },
  {
   "cell_type": "code",
   "execution_count": null,
   "metadata": {},
   "outputs": [],
   "source": []
  }
 ],
 "metadata": {
  "kernelspec": {
   "display_name": "env",
   "language": "python",
   "name": "python3"
  },
  "language_info": {
   "codemirror_mode": {
    "name": "ipython",
    "version": 3
   },
   "file_extension": ".py",
   "mimetype": "text/x-python",
   "name": "python",
   "nbconvert_exporter": "python",
   "pygments_lexer": "ipython3",
   "version": "3.9.16"
  },
  "orig_nbformat": 4,
  "vscode": {
   "interpreter": {
    "hash": "1d85f8d091281e8cdbbabc30d35abdaebd4eb091dd84d434d9fa6db6a3942f76"
   }
  }
 },
 "nbformat": 4,
 "nbformat_minor": 2
}
