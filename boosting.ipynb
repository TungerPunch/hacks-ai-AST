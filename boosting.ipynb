{
 "cells": [
  {
   "cell_type": "code",
   "execution_count": 1,
   "metadata": {},
   "outputs": [],
   "source": [
    "import os\n",
    "\n",
    "os.chdir('app/')"
   ]
  },
  {
   "cell_type": "code",
   "execution_count": 2,
   "metadata": {},
   "outputs": [],
   "source": [
    "import numpy as np\n",
    "import pandas as pd\n",
    "import matplotlib.pyplot as plt\n",
    "\n",
    "from sklearn.metrics import roc_auc_score, f1_score, mean_squared_error\n",
    "from sklearn.model_selection import cross_val_score, train_test_split\n",
    "from sklearn.preprocessing import OneHotEncoder\n",
    "\n",
    "from sklearn.linear_model import LogisticRegression, LinearRegression\n",
    "from lightgbm import LGBMClassifier, LGBMRegressor"
   ]
  },
  {
   "cell_type": "code",
   "execution_count": 3,
   "metadata": {},
   "outputs": [],
   "source": [
    "path_to_data = 'data'"
   ]
  },
  {
   "cell_type": "code",
   "execution_count": 126,
   "metadata": {},
   "outputs": [],
   "source": [
    "df_train = pd.read_parquet(path_to_data + '/train_dataset_hackaton2023_train.gzip')\n",
    "df_test = pd.read_parquet(path_to_data + '/hackaton2023_test.gzip')\n",
    "\n",
    "df_test['date_diff_post'] = 0\n",
    "df_test['buy_post'] = 0"
   ]
  },
  {
   "cell_type": "code",
   "execution_count": 127,
   "metadata": {},
   "outputs": [],
   "source": [
    "def preprocess(df):\n",
    "    # df = df.drop_duplicates()\n",
    "\n",
    "    data_check_agg = df.groupby(['customer_id', 'startdatetime']).agg({\n",
    "        'revenue': 'sum', \n",
    "        'buy_post': 'first',\n",
    "        'date_diff_post': 'first'\n",
    "    }).reset_index()\n",
    "\n",
    "    data_check_agg['delta'] = data_check_agg.groupby('customer_id')['startdatetime'].diff() \n",
    "\n",
    "    data_check_agg['delta_hours'] = (data_check_agg['delta'].dt.total_seconds() // (60*60)).fillna(0)\n",
    "    data_check_agg['delta_days'] = (data_check_agg['delta'].dt.total_seconds() // (24*60*60)).fillna(0)\n",
    "\n",
    "    data_check_agg = data_check_agg.drop('delta', axis=1)\n",
    "\n",
    "    data_cust_agg = data_check_agg.groupby('customer_id').agg({\n",
    "        'revenue': ['mean', 'median', 'std', 'max', 'min', 'count'],\n",
    "        'delta_hours': ['mean', 'median', 'std', 'max', 'min',], \n",
    "        'delta_days': ['mean', 'median', 'std', 'max', 'min',], \n",
    "        'startdatetime': ['min', 'max'],\n",
    "        'buy_post': 'first',\n",
    "        'date_diff_post': 'first',\n",
    "    }).reset_index()\n",
    "\n",
    "    data_cust_agg.columns = [f'{header}_{stat}' for header, stat in data_cust_agg.columns]\n",
    "\n",
    "    data_cust_agg['recency'] = (data_cust_agg['startdatetime_max'] - data_cust_agg['startdatetime_min']).dt.days\n",
    "    data_cust_agg['T'] = (pd.to_datetime('2023-08-02') - data_cust_agg['startdatetime_min']).dt.days\n",
    "    data_cust_agg['days_from_last_purchase'] = (pd.to_datetime('2023-08-02') - data_cust_agg['startdatetime_max']).dt.days\n",
    "    data_cust_agg['lambda'] = data_cust_agg['revenue_count'] / (data_cust_agg['recency'] + 1)\n",
    "    data_cust_agg = data_cust_agg.drop(['startdatetime_min', 'startdatetime_max'], axis=1)\n",
    "    \n",
    "    return data_cust_agg"
   ]
  },
  {
   "cell_type": "code",
   "execution_count": 128,
   "metadata": {},
   "outputs": [],
   "source": [
    "data_train = preprocess(df_train)"
   ]
  },
  {
   "cell_type": "code",
   "execution_count": 131,
   "metadata": {},
   "outputs": [
    {
     "data": {
      "text/html": [
       "<div>\n",
       "<style scoped>\n",
       "    .dataframe tbody tr th:only-of-type {\n",
       "        vertical-align: middle;\n",
       "    }\n",
       "\n",
       "    .dataframe tbody tr th {\n",
       "        vertical-align: top;\n",
       "    }\n",
       "\n",
       "    .dataframe thead th {\n",
       "        text-align: right;\n",
       "    }\n",
       "</style>\n",
       "<table border=\"1\" class=\"dataframe\">\n",
       "  <thead>\n",
       "    <tr style=\"text-align: right;\">\n",
       "      <th></th>\n",
       "      <th>customer_id_</th>\n",
       "      <th>revenue_mean</th>\n",
       "      <th>revenue_median</th>\n",
       "      <th>revenue_std</th>\n",
       "      <th>revenue_max</th>\n",
       "      <th>revenue_min</th>\n",
       "      <th>revenue_count</th>\n",
       "      <th>delta_hours_mean</th>\n",
       "      <th>delta_hours_median</th>\n",
       "      <th>delta_hours_std</th>\n",
       "      <th>...</th>\n",
       "      <th>delta_days_median</th>\n",
       "      <th>delta_days_std</th>\n",
       "      <th>delta_days_max</th>\n",
       "      <th>delta_days_min</th>\n",
       "      <th>buy_post_first</th>\n",
       "      <th>date_diff_post_first</th>\n",
       "      <th>recency</th>\n",
       "      <th>T</th>\n",
       "      <th>days_from_last_purchase</th>\n",
       "      <th>lambda</th>\n",
       "    </tr>\n",
       "  </thead>\n",
       "  <tbody>\n",
       "    <tr>\n",
       "      <th>0</th>\n",
       "      <td>29891</td>\n",
       "      <td>203.494000</td>\n",
       "      <td>199.960</td>\n",
       "      <td>123.170275</td>\n",
       "      <td>439.98</td>\n",
       "      <td>1.00</td>\n",
       "      <td>25</td>\n",
       "      <td>55.240000</td>\n",
       "      <td>24.0</td>\n",
       "      <td>72.502460</td>\n",
       "      <td>...</td>\n",
       "      <td>1.0</td>\n",
       "      <td>2.998889</td>\n",
       "      <td>11.0</td>\n",
       "      <td>0.0</td>\n",
       "      <td>1</td>\n",
       "      <td>9.0</td>\n",
       "      <td>57</td>\n",
       "      <td>239</td>\n",
       "      <td>181</td>\n",
       "      <td>0.431034</td>\n",
       "    </tr>\n",
       "    <tr>\n",
       "      <th>1</th>\n",
       "      <td>30477</td>\n",
       "      <td>227.024000</td>\n",
       "      <td>229.990</td>\n",
       "      <td>124.933425</td>\n",
       "      <td>499.95</td>\n",
       "      <td>44.99</td>\n",
       "      <td>25</td>\n",
       "      <td>49.400000</td>\n",
       "      <td>23.0</td>\n",
       "      <td>60.578462</td>\n",
       "      <td>...</td>\n",
       "      <td>0.0</td>\n",
       "      <td>2.518597</td>\n",
       "      <td>9.0</td>\n",
       "      <td>0.0</td>\n",
       "      <td>1</td>\n",
       "      <td>10.0</td>\n",
       "      <td>51</td>\n",
       "      <td>301</td>\n",
       "      <td>249</td>\n",
       "      <td>0.480769</td>\n",
       "    </tr>\n",
       "    <tr>\n",
       "      <th>2</th>\n",
       "      <td>31426</td>\n",
       "      <td>391.399583</td>\n",
       "      <td>344.985</td>\n",
       "      <td>334.849322</td>\n",
       "      <td>1079.97</td>\n",
       "      <td>1.00</td>\n",
       "      <td>24</td>\n",
       "      <td>49.708333</td>\n",
       "      <td>34.5</td>\n",
       "      <td>46.635944</td>\n",
       "      <td>...</td>\n",
       "      <td>1.0</td>\n",
       "      <td>1.809796</td>\n",
       "      <td>6.0</td>\n",
       "      <td>0.0</td>\n",
       "      <td>1</td>\n",
       "      <td>4.0</td>\n",
       "      <td>50</td>\n",
       "      <td>81</td>\n",
       "      <td>31</td>\n",
       "      <td>0.470588</td>\n",
       "    </tr>\n",
       "    <tr>\n",
       "      <th>3</th>\n",
       "      <td>44491</td>\n",
       "      <td>128.725000</td>\n",
       "      <td>59.980</td>\n",
       "      <td>144.471912</td>\n",
       "      <td>344.97</td>\n",
       "      <td>49.97</td>\n",
       "      <td>4</td>\n",
       "      <td>166.750000</td>\n",
       "      <td>11.5</td>\n",
       "      <td>318.351352</td>\n",
       "      <td>...</td>\n",
       "      <td>0.0</td>\n",
       "      <td>13.000000</td>\n",
       "      <td>26.0</td>\n",
       "      <td>0.0</td>\n",
       "      <td>1</td>\n",
       "      <td>42.0</td>\n",
       "      <td>27</td>\n",
       "      <td>52</td>\n",
       "      <td>24</td>\n",
       "      <td>0.142857</td>\n",
       "    </tr>\n",
       "    <tr>\n",
       "      <th>4</th>\n",
       "      <td>44939</td>\n",
       "      <td>554.943333</td>\n",
       "      <td>554.940</td>\n",
       "      <td>49.985000</td>\n",
       "      <td>604.93</td>\n",
       "      <td>504.96</td>\n",
       "      <td>3</td>\n",
       "      <td>123.333333</td>\n",
       "      <td>172.0</td>\n",
       "      <td>107.598017</td>\n",
       "      <td>...</td>\n",
       "      <td>7.0</td>\n",
       "      <td>4.358899</td>\n",
       "      <td>8.0</td>\n",
       "      <td>0.0</td>\n",
       "      <td>1</td>\n",
       "      <td>9.0</td>\n",
       "      <td>15</td>\n",
       "      <td>234</td>\n",
       "      <td>219</td>\n",
       "      <td>0.187500</td>\n",
       "    </tr>\n",
       "  </tbody>\n",
       "</table>\n",
       "<p>5 rows × 23 columns</p>\n",
       "</div>"
      ],
      "text/plain": [
       "   customer_id_  revenue_mean  revenue_median  revenue_std  revenue_max  \\\n",
       "0         29891    203.494000         199.960   123.170275       439.98   \n",
       "1         30477    227.024000         229.990   124.933425       499.95   \n",
       "2         31426    391.399583         344.985   334.849322      1079.97   \n",
       "3         44491    128.725000          59.980   144.471912       344.97   \n",
       "4         44939    554.943333         554.940    49.985000       604.93   \n",
       "\n",
       "   revenue_min  revenue_count  delta_hours_mean  delta_hours_median  \\\n",
       "0         1.00             25         55.240000                24.0   \n",
       "1        44.99             25         49.400000                23.0   \n",
       "2         1.00             24         49.708333                34.5   \n",
       "3        49.97              4        166.750000                11.5   \n",
       "4       504.96              3        123.333333               172.0   \n",
       "\n",
       "   delta_hours_std  ...  delta_days_median  delta_days_std  delta_days_max  \\\n",
       "0        72.502460  ...                1.0        2.998889            11.0   \n",
       "1        60.578462  ...                0.0        2.518597             9.0   \n",
       "2        46.635944  ...                1.0        1.809796             6.0   \n",
       "3       318.351352  ...                0.0       13.000000            26.0   \n",
       "4       107.598017  ...                7.0        4.358899             8.0   \n",
       "\n",
       "   delta_days_min  buy_post_first  date_diff_post_first  recency    T  \\\n",
       "0             0.0               1                   9.0       57  239   \n",
       "1             0.0               1                  10.0       51  301   \n",
       "2             0.0               1                   4.0       50   81   \n",
       "3             0.0               1                  42.0       27   52   \n",
       "4             0.0               1                   9.0       15  234   \n",
       "\n",
       "   days_from_last_purchase    lambda  \n",
       "0                      181  0.431034  \n",
       "1                      249  0.480769  \n",
       "2                       31  0.470588  \n",
       "3                       24  0.142857  \n",
       "4                      219  0.187500  \n",
       "\n",
       "[5 rows x 23 columns]"
      ]
     },
     "execution_count": 131,
     "metadata": {},
     "output_type": "execute_result"
    }
   ],
   "source": [
    "data_train.head()"
   ]
  },
  {
   "cell_type": "code",
   "execution_count": 132,
   "metadata": {},
   "outputs": [],
   "source": [
    "data_test = preprocess(df_test)"
   ]
  },
  {
   "cell_type": "code",
   "execution_count": 133,
   "metadata": {},
   "outputs": [
    {
     "data": {
      "text/html": [
       "<div>\n",
       "<style scoped>\n",
       "    .dataframe tbody tr th:only-of-type {\n",
       "        vertical-align: middle;\n",
       "    }\n",
       "\n",
       "    .dataframe tbody tr th {\n",
       "        vertical-align: top;\n",
       "    }\n",
       "\n",
       "    .dataframe thead th {\n",
       "        text-align: right;\n",
       "    }\n",
       "</style>\n",
       "<table border=\"1\" class=\"dataframe\">\n",
       "  <thead>\n",
       "    <tr style=\"text-align: right;\">\n",
       "      <th></th>\n",
       "      <th>customer_id_</th>\n",
       "      <th>revenue_mean</th>\n",
       "      <th>revenue_median</th>\n",
       "      <th>revenue_std</th>\n",
       "      <th>revenue_max</th>\n",
       "      <th>revenue_min</th>\n",
       "      <th>revenue_count</th>\n",
       "      <th>delta_hours_mean</th>\n",
       "      <th>delta_hours_median</th>\n",
       "      <th>delta_hours_std</th>\n",
       "      <th>...</th>\n",
       "      <th>delta_days_median</th>\n",
       "      <th>delta_days_std</th>\n",
       "      <th>delta_days_max</th>\n",
       "      <th>delta_days_min</th>\n",
       "      <th>buy_post_first</th>\n",
       "      <th>date_diff_post_first</th>\n",
       "      <th>recency</th>\n",
       "      <th>T</th>\n",
       "      <th>days_from_last_purchase</th>\n",
       "      <th>lambda</th>\n",
       "    </tr>\n",
       "  </thead>\n",
       "  <tbody>\n",
       "    <tr>\n",
       "      <th>0</th>\n",
       "      <td>52341</td>\n",
       "      <td>563.942500</td>\n",
       "      <td>549.95</td>\n",
       "      <td>65.700330</td>\n",
       "      <td>655.93</td>\n",
       "      <td>499.94</td>\n",
       "      <td>4</td>\n",
       "      <td>192.000000</td>\n",
       "      <td>168.0</td>\n",
       "      <td>178.529176</td>\n",
       "      <td>...</td>\n",
       "      <td>6.5</td>\n",
       "      <td>7.500000</td>\n",
       "      <td>18.0</td>\n",
       "      <td>0.0</td>\n",
       "      <td>0</td>\n",
       "      <td>0</td>\n",
       "      <td>32</td>\n",
       "      <td>178</td>\n",
       "      <td>146</td>\n",
       "      <td>0.121212</td>\n",
       "    </tr>\n",
       "    <tr>\n",
       "      <th>1</th>\n",
       "      <td>69175</td>\n",
       "      <td>430.306667</td>\n",
       "      <td>399.98</td>\n",
       "      <td>62.142941</td>\n",
       "      <td>554.96</td>\n",
       "      <td>374.98</td>\n",
       "      <td>9</td>\n",
       "      <td>92.777778</td>\n",
       "      <td>24.0</td>\n",
       "      <td>131.890843</td>\n",
       "      <td>...</td>\n",
       "      <td>1.0</td>\n",
       "      <td>5.456902</td>\n",
       "      <td>13.0</td>\n",
       "      <td>0.0</td>\n",
       "      <td>0</td>\n",
       "      <td>0</td>\n",
       "      <td>34</td>\n",
       "      <td>40</td>\n",
       "      <td>5</td>\n",
       "      <td>0.257143</td>\n",
       "    </tr>\n",
       "    <tr>\n",
       "      <th>2</th>\n",
       "      <td>73427</td>\n",
       "      <td>254.240323</td>\n",
       "      <td>169.98</td>\n",
       "      <td>218.360745</td>\n",
       "      <td>869.95</td>\n",
       "      <td>1.00</td>\n",
       "      <td>31</td>\n",
       "      <td>45.096774</td>\n",
       "      <td>45.0</td>\n",
       "      <td>43.356164</td>\n",
       "      <td>...</td>\n",
       "      <td>1.0</td>\n",
       "      <td>1.786448</td>\n",
       "      <td>8.0</td>\n",
       "      <td>0.0</td>\n",
       "      <td>0</td>\n",
       "      <td>0</td>\n",
       "      <td>58</td>\n",
       "      <td>212</td>\n",
       "      <td>153</td>\n",
       "      <td>0.525424</td>\n",
       "    </tr>\n",
       "    <tr>\n",
       "      <th>3</th>\n",
       "      <td>134577</td>\n",
       "      <td>372.970000</td>\n",
       "      <td>290.98</td>\n",
       "      <td>310.195853</td>\n",
       "      <td>799.93</td>\n",
       "      <td>109.99</td>\n",
       "      <td>4</td>\n",
       "      <td>35.000000</td>\n",
       "      <td>0.0</td>\n",
       "      <td>70.000000</td>\n",
       "      <td>...</td>\n",
       "      <td>0.0</td>\n",
       "      <td>2.500000</td>\n",
       "      <td>5.0</td>\n",
       "      <td>0.0</td>\n",
       "      <td>0</td>\n",
       "      <td>0</td>\n",
       "      <td>5</td>\n",
       "      <td>316</td>\n",
       "      <td>310</td>\n",
       "      <td>0.666667</td>\n",
       "    </tr>\n",
       "    <tr>\n",
       "      <th>4</th>\n",
       "      <td>156357</td>\n",
       "      <td>558.963333</td>\n",
       "      <td>644.96</td>\n",
       "      <td>245.551523</td>\n",
       "      <td>749.95</td>\n",
       "      <td>281.98</td>\n",
       "      <td>3</td>\n",
       "      <td>344.000000</td>\n",
       "      <td>138.0</td>\n",
       "      <td>481.285778</td>\n",
       "      <td>...</td>\n",
       "      <td>5.0</td>\n",
       "      <td>20.074860</td>\n",
       "      <td>37.0</td>\n",
       "      <td>0.0</td>\n",
       "      <td>0</td>\n",
       "      <td>0</td>\n",
       "      <td>43</td>\n",
       "      <td>227</td>\n",
       "      <td>184</td>\n",
       "      <td>0.068182</td>\n",
       "    </tr>\n",
       "  </tbody>\n",
       "</table>\n",
       "<p>5 rows × 23 columns</p>\n",
       "</div>"
      ],
      "text/plain": [
       "   customer_id_  revenue_mean  revenue_median  revenue_std  revenue_max  \\\n",
       "0         52341    563.942500          549.95    65.700330       655.93   \n",
       "1         69175    430.306667          399.98    62.142941       554.96   \n",
       "2         73427    254.240323          169.98   218.360745       869.95   \n",
       "3        134577    372.970000          290.98   310.195853       799.93   \n",
       "4        156357    558.963333          644.96   245.551523       749.95   \n",
       "\n",
       "   revenue_min  revenue_count  delta_hours_mean  delta_hours_median  \\\n",
       "0       499.94              4        192.000000               168.0   \n",
       "1       374.98              9         92.777778                24.0   \n",
       "2         1.00             31         45.096774                45.0   \n",
       "3       109.99              4         35.000000                 0.0   \n",
       "4       281.98              3        344.000000               138.0   \n",
       "\n",
       "   delta_hours_std  ...  delta_days_median  delta_days_std  delta_days_max  \\\n",
       "0       178.529176  ...                6.5        7.500000            18.0   \n",
       "1       131.890843  ...                1.0        5.456902            13.0   \n",
       "2        43.356164  ...                1.0        1.786448             8.0   \n",
       "3        70.000000  ...                0.0        2.500000             5.0   \n",
       "4       481.285778  ...                5.0       20.074860            37.0   \n",
       "\n",
       "   delta_days_min  buy_post_first  date_diff_post_first  recency    T  \\\n",
       "0             0.0               0                     0       32  178   \n",
       "1             0.0               0                     0       34   40   \n",
       "2             0.0               0                     0       58  212   \n",
       "3             0.0               0                     0        5  316   \n",
       "4             0.0               0                     0       43  227   \n",
       "\n",
       "   days_from_last_purchase    lambda  \n",
       "0                      146  0.121212  \n",
       "1                        5  0.257143  \n",
       "2                      153  0.525424  \n",
       "3                      310  0.666667  \n",
       "4                      184  0.068182  \n",
       "\n",
       "[5 rows x 23 columns]"
      ]
     },
     "execution_count": 133,
     "metadata": {},
     "output_type": "execute_result"
    }
   ],
   "source": [
    "data_test.head()"
   ]
  },
  {
   "cell_type": "code",
   "execution_count": 103,
   "metadata": {},
   "outputs": [],
   "source": [
    "# data_train, data_valid = train_test_split(data_cust_agg, test_size=.2, random_state=42)"
   ]
  },
  {
   "cell_type": "code",
   "execution_count": 135,
   "metadata": {},
   "outputs": [],
   "source": [
    "X_train = data_train.drop(['date_diff_post_first', 'buy_post_first', 'customer_id_'], axis=1)\n",
    "y_train_class = data_train['buy_post_first']\n",
    "y_train_reg = data_train['date_diff_post_first']\n",
    "\n",
    "# X_valid = data_valid.drop(['date_diff_post_first', 'buy_post_first', 'customer_id_', 'startdatetime_min', 'startdatetime_max'], axis=1)\n",
    "# y_valid_class = data_valid['buy_post_first']\n",
    "# y_valid_reg = data_valid['date_diff_post_first']\n",
    "\n",
    "X_test = data_test.drop(['date_diff_post_first', 'buy_post_first', 'customer_id_'], axis=1)"
   ]
  },
  {
   "cell_type": "code",
   "execution_count": 136,
   "metadata": {},
   "outputs": [
    {
     "name": "stdout",
     "output_type": "stream",
     "text": [
      "ROC-AUC: 0.749 ± 0.001\n"
     ]
    }
   ],
   "source": [
    "model = LGBMClassifier(verbose=-1)\n",
    "# model = LogisticRegression()\n",
    "\n",
    "res = cross_val_score(model, X_train, y_train_class, scoring='roc_auc')\n",
    "print(f'ROC-AUC: {res.mean():.3f} ± {res.std():.3f}')"
   ]
  },
  {
   "cell_type": "code",
   "execution_count": 137,
   "metadata": {},
   "outputs": [
    {
     "name": "stdout",
     "output_type": "stream",
     "text": [
      "f1-score: 0.841 ± 0.001\n"
     ]
    }
   ],
   "source": [
    "res = cross_val_score(model, X_train, y_train_class, scoring='f1')\n",
    "print(f'f1-score: {res.mean():.3f} ± {res.std():.3f}')"
   ]
  },
  {
   "cell_type": "code",
   "execution_count": 138,
   "metadata": {},
   "outputs": [
    {
     "name": "stdout",
     "output_type": "stream",
     "text": [
      "RMSE: 16.686 ± 0.207\n"
     ]
    }
   ],
   "source": [
    "model = LGBMRegressor(verbose=-1)\n",
    "# model = LinearRegression()\n",
    "\n",
    "res = cross_val_score(model, X_train, y_train_reg.fillna(0), scoring='neg_root_mean_squared_error')\n",
    "print(f'RMSE: {-res.mean():.3f} ± {res.std():.3f}')"
   ]
  },
  {
   "cell_type": "code",
   "execution_count": 141,
   "metadata": {},
   "outputs": [
    {
     "data": {
      "text/html": [
       "<style>#sk-container-id-1 {color: black;}#sk-container-id-1 pre{padding: 0;}#sk-container-id-1 div.sk-toggleable {background-color: white;}#sk-container-id-1 label.sk-toggleable__label {cursor: pointer;display: block;width: 100%;margin-bottom: 0;padding: 0.3em;box-sizing: border-box;text-align: center;}#sk-container-id-1 label.sk-toggleable__label-arrow:before {content: \"▸\";float: left;margin-right: 0.25em;color: #696969;}#sk-container-id-1 label.sk-toggleable__label-arrow:hover:before {color: black;}#sk-container-id-1 div.sk-estimator:hover label.sk-toggleable__label-arrow:before {color: black;}#sk-container-id-1 div.sk-toggleable__content {max-height: 0;max-width: 0;overflow: hidden;text-align: left;background-color: #f0f8ff;}#sk-container-id-1 div.sk-toggleable__content pre {margin: 0.2em;color: black;border-radius: 0.25em;background-color: #f0f8ff;}#sk-container-id-1 input.sk-toggleable__control:checked~div.sk-toggleable__content {max-height: 200px;max-width: 100%;overflow: auto;}#sk-container-id-1 input.sk-toggleable__control:checked~label.sk-toggleable__label-arrow:before {content: \"▾\";}#sk-container-id-1 div.sk-estimator input.sk-toggleable__control:checked~label.sk-toggleable__label {background-color: #d4ebff;}#sk-container-id-1 div.sk-label input.sk-toggleable__control:checked~label.sk-toggleable__label {background-color: #d4ebff;}#sk-container-id-1 input.sk-hidden--visually {border: 0;clip: rect(1px 1px 1px 1px);clip: rect(1px, 1px, 1px, 1px);height: 1px;margin: -1px;overflow: hidden;padding: 0;position: absolute;width: 1px;}#sk-container-id-1 div.sk-estimator {font-family: monospace;background-color: #f0f8ff;border: 1px dotted black;border-radius: 0.25em;box-sizing: border-box;margin-bottom: 0.5em;}#sk-container-id-1 div.sk-estimator:hover {background-color: #d4ebff;}#sk-container-id-1 div.sk-parallel-item::after {content: \"\";width: 100%;border-bottom: 1px solid gray;flex-grow: 1;}#sk-container-id-1 div.sk-label:hover label.sk-toggleable__label {background-color: #d4ebff;}#sk-container-id-1 div.sk-serial::before {content: \"\";position: absolute;border-left: 1px solid gray;box-sizing: border-box;top: 0;bottom: 0;left: 50%;z-index: 0;}#sk-container-id-1 div.sk-serial {display: flex;flex-direction: column;align-items: center;background-color: white;padding-right: 0.2em;padding-left: 0.2em;position: relative;}#sk-container-id-1 div.sk-item {position: relative;z-index: 1;}#sk-container-id-1 div.sk-parallel {display: flex;align-items: stretch;justify-content: center;background-color: white;position: relative;}#sk-container-id-1 div.sk-item::before, #sk-container-id-1 div.sk-parallel-item::before {content: \"\";position: absolute;border-left: 1px solid gray;box-sizing: border-box;top: 0;bottom: 0;left: 50%;z-index: -1;}#sk-container-id-1 div.sk-parallel-item {display: flex;flex-direction: column;z-index: 1;position: relative;background-color: white;}#sk-container-id-1 div.sk-parallel-item:first-child::after {align-self: flex-end;width: 50%;}#sk-container-id-1 div.sk-parallel-item:last-child::after {align-self: flex-start;width: 50%;}#sk-container-id-1 div.sk-parallel-item:only-child::after {width: 0;}#sk-container-id-1 div.sk-dashed-wrapped {border: 1px dashed gray;margin: 0 0.4em 0.5em 0.4em;box-sizing: border-box;padding-bottom: 0.4em;background-color: white;}#sk-container-id-1 div.sk-label label {font-family: monospace;font-weight: bold;display: inline-block;line-height: 1.2em;}#sk-container-id-1 div.sk-label-container {text-align: center;}#sk-container-id-1 div.sk-container {/* jupyter's `normalize.less` sets `[hidden] { display: none; }` but bootstrap.min.css set `[hidden] { display: none !important; }` so we also need the `!important` here to be able to override the default hidden behavior on the sphinx rendered scikit-learn.org. See: https://github.com/scikit-learn/scikit-learn/issues/21755 */display: inline-block !important;position: relative;}#sk-container-id-1 div.sk-text-repr-fallback {display: none;}</style><div id=\"sk-container-id-1\" class=\"sk-top-container\"><div class=\"sk-text-repr-fallback\"><pre>LGBMClassifier(verbose=-1)</pre><b>In a Jupyter environment, please rerun this cell to show the HTML representation or trust the notebook. <br />On GitHub, the HTML representation is unable to render, please try loading this page with nbviewer.org.</b></div><div class=\"sk-container\" hidden><div class=\"sk-item\"><div class=\"sk-estimator sk-toggleable\"><input class=\"sk-toggleable__control sk-hidden--visually\" id=\"sk-estimator-id-1\" type=\"checkbox\" checked><label for=\"sk-estimator-id-1\" class=\"sk-toggleable__label sk-toggleable__label-arrow\">LGBMClassifier</label><div class=\"sk-toggleable__content\"><pre>LGBMClassifier(verbose=-1)</pre></div></div></div></div></div>"
      ],
      "text/plain": [
       "LGBMClassifier(verbose=-1)"
      ]
     },
     "execution_count": 141,
     "metadata": {},
     "output_type": "execute_result"
    }
   ],
   "source": [
    "model_class = LGBMClassifier(verbose=-1)\n",
    "model_class.fit(X_train, y_train_class)"
   ]
  },
  {
   "cell_type": "code",
   "execution_count": 144,
   "metadata": {},
   "outputs": [
    {
     "data": {
      "text/html": [
       "<style>#sk-container-id-3 {color: black;}#sk-container-id-3 pre{padding: 0;}#sk-container-id-3 div.sk-toggleable {background-color: white;}#sk-container-id-3 label.sk-toggleable__label {cursor: pointer;display: block;width: 100%;margin-bottom: 0;padding: 0.3em;box-sizing: border-box;text-align: center;}#sk-container-id-3 label.sk-toggleable__label-arrow:before {content: \"▸\";float: left;margin-right: 0.25em;color: #696969;}#sk-container-id-3 label.sk-toggleable__label-arrow:hover:before {color: black;}#sk-container-id-3 div.sk-estimator:hover label.sk-toggleable__label-arrow:before {color: black;}#sk-container-id-3 div.sk-toggleable__content {max-height: 0;max-width: 0;overflow: hidden;text-align: left;background-color: #f0f8ff;}#sk-container-id-3 div.sk-toggleable__content pre {margin: 0.2em;color: black;border-radius: 0.25em;background-color: #f0f8ff;}#sk-container-id-3 input.sk-toggleable__control:checked~div.sk-toggleable__content {max-height: 200px;max-width: 100%;overflow: auto;}#sk-container-id-3 input.sk-toggleable__control:checked~label.sk-toggleable__label-arrow:before {content: \"▾\";}#sk-container-id-3 div.sk-estimator input.sk-toggleable__control:checked~label.sk-toggleable__label {background-color: #d4ebff;}#sk-container-id-3 div.sk-label input.sk-toggleable__control:checked~label.sk-toggleable__label {background-color: #d4ebff;}#sk-container-id-3 input.sk-hidden--visually {border: 0;clip: rect(1px 1px 1px 1px);clip: rect(1px, 1px, 1px, 1px);height: 1px;margin: -1px;overflow: hidden;padding: 0;position: absolute;width: 1px;}#sk-container-id-3 div.sk-estimator {font-family: monospace;background-color: #f0f8ff;border: 1px dotted black;border-radius: 0.25em;box-sizing: border-box;margin-bottom: 0.5em;}#sk-container-id-3 div.sk-estimator:hover {background-color: #d4ebff;}#sk-container-id-3 div.sk-parallel-item::after {content: \"\";width: 100%;border-bottom: 1px solid gray;flex-grow: 1;}#sk-container-id-3 div.sk-label:hover label.sk-toggleable__label {background-color: #d4ebff;}#sk-container-id-3 div.sk-serial::before {content: \"\";position: absolute;border-left: 1px solid gray;box-sizing: border-box;top: 0;bottom: 0;left: 50%;z-index: 0;}#sk-container-id-3 div.sk-serial {display: flex;flex-direction: column;align-items: center;background-color: white;padding-right: 0.2em;padding-left: 0.2em;position: relative;}#sk-container-id-3 div.sk-item {position: relative;z-index: 1;}#sk-container-id-3 div.sk-parallel {display: flex;align-items: stretch;justify-content: center;background-color: white;position: relative;}#sk-container-id-3 div.sk-item::before, #sk-container-id-3 div.sk-parallel-item::before {content: \"\";position: absolute;border-left: 1px solid gray;box-sizing: border-box;top: 0;bottom: 0;left: 50%;z-index: -1;}#sk-container-id-3 div.sk-parallel-item {display: flex;flex-direction: column;z-index: 1;position: relative;background-color: white;}#sk-container-id-3 div.sk-parallel-item:first-child::after {align-self: flex-end;width: 50%;}#sk-container-id-3 div.sk-parallel-item:last-child::after {align-self: flex-start;width: 50%;}#sk-container-id-3 div.sk-parallel-item:only-child::after {width: 0;}#sk-container-id-3 div.sk-dashed-wrapped {border: 1px dashed gray;margin: 0 0.4em 0.5em 0.4em;box-sizing: border-box;padding-bottom: 0.4em;background-color: white;}#sk-container-id-3 div.sk-label label {font-family: monospace;font-weight: bold;display: inline-block;line-height: 1.2em;}#sk-container-id-3 div.sk-label-container {text-align: center;}#sk-container-id-3 div.sk-container {/* jupyter's `normalize.less` sets `[hidden] { display: none; }` but bootstrap.min.css set `[hidden] { display: none !important; }` so we also need the `!important` here to be able to override the default hidden behavior on the sphinx rendered scikit-learn.org. See: https://github.com/scikit-learn/scikit-learn/issues/21755 */display: inline-block !important;position: relative;}#sk-container-id-3 div.sk-text-repr-fallback {display: none;}</style><div id=\"sk-container-id-3\" class=\"sk-top-container\"><div class=\"sk-text-repr-fallback\"><pre>LGBMRegressor(verbose=-1)</pre><b>In a Jupyter environment, please rerun this cell to show the HTML representation or trust the notebook. <br />On GitHub, the HTML representation is unable to render, please try loading this page with nbviewer.org.</b></div><div class=\"sk-container\" hidden><div class=\"sk-item\"><div class=\"sk-estimator sk-toggleable\"><input class=\"sk-toggleable__control sk-hidden--visually\" id=\"sk-estimator-id-3\" type=\"checkbox\" checked><label for=\"sk-estimator-id-3\" class=\"sk-toggleable__label sk-toggleable__label-arrow\">LGBMRegressor</label><div class=\"sk-toggleable__content\"><pre>LGBMRegressor(verbose=-1)</pre></div></div></div></div></div>"
      ],
      "text/plain": [
       "LGBMRegressor(verbose=-1)"
      ]
     },
     "execution_count": 144,
     "metadata": {},
     "output_type": "execute_result"
    }
   ],
   "source": [
    "model_reg = LGBMRegressor(verbose=-1)\n",
    "model_reg.fit(X_train, y_train_reg.fillna(0))"
   ]
  },
  {
   "cell_type": "code",
   "execution_count": 149,
   "metadata": {},
   "outputs": [],
   "source": [
    "pred_class = model_class.predict(X_test)\n",
    "pred_reg = model_reg.predict(X_test)"
   ]
  },
  {
   "cell_type": "code",
   "execution_count": 152,
   "metadata": {},
   "outputs": [],
   "source": [
    "sub = pd.DataFrame()\n",
    "\n",
    "sub['customer_id'] = data_test['customer_id_']\n",
    "sub['date_diff_post'] = pred_reg\n",
    "sub['buy_post'] = pred_class"
   ]
  },
  {
   "cell_type": "code",
   "execution_count": 154,
   "metadata": {},
   "outputs": [],
   "source": [
    "sub.to_csv('first_sub.csv', sep=';', index=False)"
   ]
  },
  {
   "cell_type": "code",
   "execution_count": null,
   "metadata": {},
   "outputs": [],
   "source": []
  }
 ],
 "metadata": {
  "kernelspec": {
   "display_name": "env",
   "language": "python",
   "name": "python3"
  },
  "language_info": {
   "codemirror_mode": {
    "name": "ipython",
    "version": 3
   },
   "file_extension": ".py",
   "mimetype": "text/x-python",
   "name": "python",
   "nbconvert_exporter": "python",
   "pygments_lexer": "ipython3",
   "version": "3.9.16"
  },
  "orig_nbformat": 4,
  "vscode": {
   "interpreter": {
    "hash": "1d85f8d091281e8cdbbabc30d35abdaebd4eb091dd84d434d9fa6db6a3942f76"
   }
  }
 },
 "nbformat": 4,
 "nbformat_minor": 2
}
