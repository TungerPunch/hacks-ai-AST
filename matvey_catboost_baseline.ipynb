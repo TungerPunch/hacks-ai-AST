{
 "cells": [
  {
   "cell_type": "code",
   "execution_count": 1,
   "metadata": {},
   "outputs": [],
   "source": [
    "import pandas as pd\n",
    "train_val = pd.read_parquet('train_dataset_hackaton2023_train.gzip')\n",
    "test = pd.read_parquet('hackaton2023_test.gzip')"
   ]
  },
  {
   "cell_type": "code",
   "execution_count": 2,
   "metadata": {},
   "outputs": [],
   "source": [
    "import random\n",
    "cust = train_val['customer_id'].unique().tolist()\n",
    "random.shuffle(cust)\n",
    "train_cust = cust[:400000]\n",
    "val_cust = cust[400000:]"
   ]
  },
  {
   "cell_type": "code",
   "execution_count": 3,
   "metadata": {},
   "outputs": [],
   "source": [
    "val = train_val[train_val['customer_id'].isin(val_cust)]\n",
    "train = train_val[train_val['customer_id'].isin(train_cust)]"
   ]
  },
  {
   "cell_type": "code",
   "execution_count": 4,
   "metadata": {},
   "outputs": [],
   "source": [
    "train_X = pd.DataFrame()\n",
    "val_X = pd.DataFrame()"
   ]
  },
  {
   "cell_type": "code",
   "execution_count": 5,
   "metadata": {},
   "outputs": [
    {
     "name": "stderr",
     "output_type": "stream",
     "text": [
      "/tmp/ipykernel_146129/998746970.py:6: SettingWithCopyWarning: \n",
      "A value is trying to be set on a copy of a slice from a DataFrame.\n",
      "Try using .loc[row_indexer,col_indexer] = value instead\n",
      "\n",
      "See the caveats in the documentation: https://pandas.pydata.org/pandas-docs/stable/user_guide/indexing.html#returning-a-view-versus-a-copy\n",
      "  train['discounts'] = train['revenue'] ==1\n",
      "/tmp/ipykernel_146129/998746970.py:13: SettingWithCopyWarning: \n",
      "A value is trying to be set on a copy of a slice from a DataFrame.\n",
      "Try using .loc[row_indexer,col_indexer] = value instead\n",
      "\n",
      "See the caveats in the documentation: https://pandas.pydata.org/pandas-docs/stable/user_guide/indexing.html#returning-a-view-versus-a-copy\n",
      "  val['discounts'] = val['revenue'] ==1\n"
     ]
    }
   ],
   "source": [
    "import numpy as np\n",
    "train_X['mean_bill'] = train.groupby(['customer_id', 'startdatetime']).revenue.sum().groupby('customer_id').mean()\n",
    "train_X['mean_time'] = np.array(train.groupby(['customer_id', 'startdatetime']).startdatetime.first().groupby('customer_id').diff().groupby('customer_id').mean().dt.total_seconds())\n",
    "train_X['mean_rest_size'] = np.array(train.groupby(['customer_id']).ownareaall_sqm.mean())\n",
    "train_X['last_rest'] = np.array(train.groupby(['customer_id']).format_name.last())\n",
    "train['discounts'] = train['revenue'] ==1\n",
    "train_X['discounts'] = (train.groupby(['customer_id']).discounts).sum()\n",
    "\n",
    "val_X['mean_bill'] = val.groupby(['customer_id', 'startdatetime']).revenue.sum().groupby('customer_id').mean()\n",
    "val_X['mean_time'] = np.array(val.groupby(['customer_id', 'startdatetime']).startdatetime.first().groupby('customer_id').diff().groupby('customer_id').mean().dt.total_seconds())\n",
    "val_X['mean_rest_size'] = np.array(val.groupby(['customer_id']).ownareaall_sqm.mean())\n",
    "val_X['last_rest'] = np.array(val.groupby(['customer_id']).format_name.last())\n",
    "val['discounts'] = val['revenue'] ==1\n",
    "val_X['discounts'] = (val.groupby(['customer_id']).discounts).sum()"
   ]
  },
  {
   "cell_type": "code",
   "execution_count": 6,
   "metadata": {},
   "outputs": [],
   "source": [
    "train_Y_cat = np.array(train.groupby('customer_id').buy_post.first())\n",
    "val_Y_cat = np.array(val.groupby('customer_id').buy_post.first())\n",
    "\n",
    "train_Y_reg = np.array(train.groupby('customer_id').date_diff_post.first())\n",
    "val_Y_reg = np.array(val.groupby('customer_id').date_diff_post.first())\n",
    "\n",
    "train_Y_reg[np.isnan(train_Y_reg)] = 0\n",
    "val_Y_reg[np.isnan(val_Y_reg)] = 0"
   ]
  },
  {
   "cell_type": "code",
   "execution_count": 7,
   "metadata": {},
   "outputs": [
    {
     "data": {
      "text/plain": [
       "0.8388629269544562"
      ]
     },
     "execution_count": 7,
     "metadata": {},
     "output_type": "execute_result"
    }
   ],
   "source": [
    "from catboost import CatBoostClassifier\n",
    "from sklearn.metrics import f1_score\n",
    "from sklearn.metrics import roc_auc_score\n",
    "model = CatBoostClassifier(iterations=100,\n",
    "                        learning_rate=0.01,\n",
    "                        depth=5,\n",
    "                        l2_leaf_reg = 3,\n",
    "                        leaf_estimation_iterations = 10,\n",
    "                        task_type=\"GPU\",\n",
    "                        verbose=False,\n",
    "                        cat_features=[3])\n",
    "\n",
    "model.fit(train_X, train_Y_cat)\n",
    "f1_score(val_Y_cat, model.predict(val_X))"
   ]
  },
  {
   "cell_type": "code",
   "execution_count": 8,
   "metadata": {},
   "outputs": [
    {
     "data": {
      "text/plain": [
       "0.6268111292040197"
      ]
     },
     "execution_count": 8,
     "metadata": {},
     "output_type": "execute_result"
    }
   ],
   "source": [
    "roc_auc_score(val_Y_cat, model.predict_proba(val_X)[:,1])"
   ]
  },
  {
   "cell_type": "code",
   "execution_count": 9,
   "metadata": {},
   "outputs": [
    {
     "data": {
      "text/plain": [
       "17.00454855710812"
      ]
     },
     "execution_count": 9,
     "metadata": {},
     "output_type": "execute_result"
    }
   ],
   "source": [
    "from catboost import CatBoostRegressor\n",
    "from sklearn.metrics import mean_squared_error\n",
    "model = CatBoostRegressor(iterations=100,\n",
    "                        learning_rate=0.01,\n",
    "                        depth=5,\n",
    "                        l2_leaf_reg = 3,\n",
    "                        leaf_estimation_iterations = 10,\n",
    "                        task_type=\"GPU\",\n",
    "                        verbose=False,\n",
    "                        cat_features=[3])\n",
    "\n",
    "model.fit(train_X, train_Y_reg)\n",
    "mean_squared_error(val_Y_reg, model.predict(val_X), squared = False)"
   ]
  }
 ],
 "metadata": {
  "kernelspec": {
   "display_name": "ML_project",
   "language": "python",
   "name": "python3"
  },
  "language_info": {
   "codemirror_mode": {
    "name": "ipython",
    "version": 3
   },
   "file_extension": ".py",
   "mimetype": "text/x-python",
   "name": "python",
   "nbconvert_exporter": "python",
   "pygments_lexer": "ipython3",
   "version": "3.9.16"
  }
 },
 "nbformat": 4,
 "nbformat_minor": 2
}
